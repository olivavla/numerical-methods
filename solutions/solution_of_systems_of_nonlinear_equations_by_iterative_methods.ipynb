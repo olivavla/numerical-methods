{
 "cells": [
  {
   "cell_type": "code",
   "execution_count": 2,
   "metadata": {},
   "outputs": [],
   "source": [
    "import numpy as np\n",
    "import matplotlib.pyplot as plt"
   ]
  },
  {
   "cell_type": "markdown",
   "metadata": {},
   "source": [
    "# Решение систем линейных алгебраических уравнений итерационными методами"
   ]
  },
  {
   "cell_type": "markdown",
   "metadata": {},
   "source": [
    "Дана система уравнений $Ax = b$. Найти решение системы с помощью метода Гаусса. Выполнить 10 итераций по методу Зейделя. Принимая решение, полученное с помощью метода Гаусса за точное, найти величину абсолютной погрешности итерационного решения."
   ]
  },
  {
   "cell_type": "code",
   "execution_count": 88,
   "metadata": {},
   "outputs": [
    {
     "name": "stdout",
     "output_type": "stream",
     "text": [
      "Точное решение системы: [ 2.09090909  1.5        -4.         -2.21212121]\n"
     ]
    }
   ],
   "source": [
    "A = [[118.8, -14, -5, -89.1], \n",
    "     [-14.85, -20, -5, 0], \n",
    "     [297, 16, 320, 0], \n",
    "     [0, 6, -30,-36.3]]\n",
    "\n",
    "b = [444.5, -41.05, -635, 209.3]\n",
    "\n",
    "x = np.linalg.solve(A, b) \n",
    "print('Точное решение системы:', x)"
   ]
  },
  {
   "cell_type": "code",
   "execution_count": 197,
   "metadata": {},
   "outputs": [],
   "source": [
    "# преобразование системы к виду x = Bx + c\n",
    "B = np.zeros((len(A), len(A)))\n",
    "c = np.zeros(len(b))\n",
    "\n",
    "for i in range(len(A)):\n",
    "    c[i] = b[i] / A[i][i]\n",
    "    for j in range(len(A)):\n",
    "        B[i][j] = -A[i][j] / A[i][i]\n",
    "        B[i][i] = 0"
   ]
  },
  {
   "cell_type": "code",
   "execution_count": 5,
   "metadata": {},
   "outputs": [
    {
     "data": {
      "text/plain": [
       "0.9924999999999999"
      ]
     },
     "execution_count": 5,
     "metadata": {},
     "output_type": "execute_result"
    }
   ],
   "source": [
    "# проверка сходимости метода Зейделя\n",
    "np.linalg.norm(B, np.inf)"
   ]
  },
  {
   "cell_type": "code",
   "execution_count": 199,
   "metadata": {},
   "outputs": [],
   "source": [
    "B1 = np.copy(B)\n",
    "B2 = np.copy(B)\n",
    "\n",
    "for i in range(len(A)):\n",
    "    B1[i, i+1:] = 0\n",
    "    B2[i, :i+1] = 0"
   ]
  },
  {
   "cell_type": "code",
   "execution_count": 153,
   "metadata": {},
   "outputs": [],
   "source": [
    "def seidel(B, c, x0):\n",
    "    n = len(B)\n",
    "    x = x0\n",
    "    \n",
    "    for it in range(11):\n",
    "        xk = np.copy(x)\n",
    "        for i in range(n):\n",
    "            s1 = sum(np.dot(B[i][j], xk[j]) for j in range(i))\n",
    "            s2 = sum(np.dot(B[i][j], x[j]) for j in range(i + 1, n))\n",
    "            xk[i] = (s1 + s2 + c[i])\n",
    "        x = xk\n",
    "    return x"
   ]
  },
  {
   "cell_type": "code",
   "execution_count": 92,
   "metadata": {},
   "outputs": [
    {
     "name": "stdout",
     "output_type": "stream",
     "text": [
      "Приближенное решение системы методом Зейделя: [ 2.09131868  1.49989631 -4.00037497 -2.21182846]\n"
     ]
    }
   ],
   "source": [
    "x1 = seidel(B, c, np.zeros(4))\n",
    "print('Приближенное решение системы методом Зейделя:', x1)"
   ]
  },
  {
   "cell_type": "code",
   "execution_count": 87,
   "metadata": {},
   "outputs": [
    {
     "data": {
      "text/plain": [
       "0.00040958979442340393"
      ]
     },
     "execution_count": 87,
     "metadata": {},
     "output_type": "execute_result"
    }
   ],
   "source": [
    "# абсолютная погрешность итерационного решения\n",
    "np.linalg.norm(x - x1, np.inf)"
   ]
  },
  {
   "cell_type": "code",
   "execution_count": 93,
   "metadata": {},
   "outputs": [
    {
     "name": "stdout",
     "output_type": "stream",
     "text": [
      "Приближенное решение системы методом Зейделя: [ 2.09161395  1.49982156 -4.00064528 -2.21161742]\n"
     ]
    }
   ],
   "source": [
    "x2 = seidel(B, c, np.ones(4))\n",
    "print('Приближенное решение системы методом Зейделя:', x2)"
   ]
  },
  {
   "cell_type": "code",
   "execution_count": 94,
   "metadata": {},
   "outputs": [
    {
     "data": {
      "text/plain": [
       "0.0007048635176469809"
      ]
     },
     "execution_count": 94,
     "metadata": {},
     "output_type": "execute_result"
    }
   ],
   "source": [
    "# абсолютная погрешность итерационного решения\n",
    "np.linalg.norm(x - x2, np.inf)"
   ]
  },
  {
   "cell_type": "markdown",
   "metadata": {},
   "source": [
    "Дана система уравнений $x = Bx + c$, где $B=B(t), t = -1, -0.8, \\ldots, 0.8, 1$ --- параметр. Построить график (или гистограмму) зависимости нормы $\\|B\\|_{\\infty}$ от параметра $t$. По графику определить, при каких перечисленных выше значениях $t$ выполнено достаточное условие сходимости итерационных методов. Найти решение системы $x = Bx + c$ с точностью $\\epsilon = 10^{-5}$ для наибольшего значения параметра $t$, при котором выполнено условие сходимости."
   ]
  },
  {
   "cell_type": "code",
   "execution_count": 221,
   "metadata": {},
   "outputs": [],
   "source": [
    "def B(t):\n",
    "    return [[0.2, 0.3, np.sin(3 * np.pi * t)], [0.1, -0.25, 0.3], [0.2, 0.1, 0.3]]"
   ]
  },
  {
   "cell_type": "code",
   "execution_count": 222,
   "metadata": {},
   "outputs": [],
   "source": [
    "c = [1, 2, 1]"
   ]
  },
  {
   "cell_type": "code",
   "execution_count": 223,
   "metadata": {},
   "outputs": [],
   "source": [
    "t = np.linspace(-1, 1, 11)"
   ]
  },
  {
   "cell_type": "code",
   "execution_count": 142,
   "metadata": {},
   "outputs": [
    {
     "data": {
      "text/plain": [
       "[0.6499999999999999,\n",
       " 1.4510565162951536,\n",
       " 1.0877852522924734,\n",
       " 1.0877852522924722,\n",
       " 1.4510565162951536,\n",
       " 0.6499999999999999,\n",
       " 1.4510565162951532,\n",
       " 1.0877852522924742,\n",
       " 1.0877852522924725,\n",
       " 1.4510565162951536,\n",
       " 0.6499999999999999]"
      ]
     },
     "execution_count": 142,
     "metadata": {},
     "output_type": "execute_result"
    }
   ],
   "source": [
    "norm = []\n",
    "\n",
    "for elem in t:\n",
    "    norm.append(np.linalg.norm(B(elem), np.inf))\n",
    "\n",
    "norm"
   ]
  },
  {
   "cell_type": "code",
   "execution_count": 138,
   "metadata": {},
   "outputs": [
    {
     "data": {
      "image/png": "[encoded data removed]",
      "text/plain": [
       "<Figure size 576x576 with 1 Axes>"
      ]
     },
     "metadata": {
      "needs_background": "light"
     },
     "output_type": "display_data"
    }
   ],
   "source": [
    "plt.figure(figsize=(8, 8))\n",
    "plt.bar(np.arange(len(norm)), norm, color='lightblue', edgecolor='darkblue')\n",
    "plt.grid(True, axis='y')\n",
    "plt.yticks(norm)\n",
    "plt.xticks(np.arange(len(norm)), [-1, -0.8, -0.6, -0.4, -0.2, 0, 0.2, 0.4, 0.6, 0.8, 1])\n",
    "plt.xlabel('t', fontsize=20)\n",
    "plt.ylabel('$\\|B\\|_{\\infty}$', fontsize=20)\n",
    "plt.show()"
   ]
  },
  {
   "cell_type": "code",
   "execution_count": 224,
   "metadata": {},
   "outputs": [
    {
     "data": {
      "text/plain": [
       "[0.6499999999999999, 0.6499999999999999, 0.6499999999999999]"
      ]
     },
     "execution_count": 224,
     "metadata": {},
     "output_type": "execute_result"
    }
   ],
   "source": [
    "[x for x in norm if x<1]"
   ]
  },
  {
   "cell_type": "code",
   "execution_count": 156,
   "metadata": {},
   "outputs": [],
   "source": [
    "def seidel1(B, c, x0, eps):\n",
    "    n = len(B)\n",
    "    x = x0\n",
    "    it = 0\n",
    "    \n",
    "    converge = False\n",
    "    while not converge:\n",
    "        xk = np.copy(x)\n",
    "        for i in range(n):\n",
    "            s1 = sum(np.dot(B[i][j], xk[j]) for j in range(i))\n",
    "            s2 = sum(np.dot(B[i][j], x[j]) for j in range(i + 1, n))\n",
    "            xk[i] = (s1 + s2 + c[i])\n",
    "        \n",
    "        converge = np.linalg.norm(xk - x) <= eps\n",
    "        x = xk\n",
    "        it += 1\n",
    "    return (x, it)"
   ]
  },
  {
   "cell_type": "code",
   "execution_count": 225,
   "metadata": {},
   "outputs": [
    {
     "name": "stdout",
     "output_type": "stream",
     "text": [
      "(array([1.80043037, 2.66811088, 1.62689716]), 8)\n"
     ]
    }
   ],
   "source": [
    "print(seidel1(B(1), c, np.zeros(len(B(1))), 10e-5))"
   ]
  },
  {
   "cell_type": "markdown",
   "metadata": {},
   "source": [
    "Дана система уравнений $Ax=b$, где $A$ -- симметричная положительно определенная матрица размерности $n\\times n$. Найти решение системы с помощью итерационного метода со спектрально эквивалентным оператором."
   ]
  },
  {
   "cell_type": "code",
   "execution_count": 17,
   "metadata": {},
   "outputs": [],
   "source": [
    "n = 50\n",
    "\n",
    "b = np.zeros(n)\n",
    "A = np.zeros((n, n))\n",
    "for i in range(n):\n",
    "    A[i][i] = 1000\n",
    "    A[i][(i+1)%n] = 450\n",
    "    A[i][(i+9)%n] = 1\n",
    "    A[i][(i+13)%n] = 13\n",
    "    A[i, :i] = 0\n",
    "    b[i] = 100 * (i+1)**2"
   ]
  },
  {
   "cell_type": "code",
   "execution_count": 18,
   "metadata": {},
   "outputs": [
    {
     "data": {
      "text/plain": [
       "array([-9.24633011e-02,  5.39152117e-02,  3.36744626e-01,  7.56447029e-01,\n",
       "        1.31233810e+00,  2.00551095e+00,  2.83427980e+00,  3.80112091e+00,\n",
       "        4.90262095e+00,  6.14309753e+00,  7.51770754e+00,  9.03103025e+00,\n",
       "        1.06795684e+01,  1.24660276e+01,  1.43870769e+01,  1.64479370e+01,\n",
       "        1.86400969e+01,  2.09781499e+01,  2.34366201e+01,  2.60590653e+01,\n",
       "        2.87738125e+01,  3.16928476e+01,  3.46536508e+01,  3.78669060e+01,\n",
       "        4.11069360e+01,  4.45404906e+01,  4.80872463e+01,  5.18065065e+01,\n",
       "        5.56086506e+01,  5.96303961e+01,  6.36372147e+01,  6.80764623e+01,\n",
       "        7.20854164e+01,  7.72904345e+01,  8.07209512e+01,  8.75511579e+01,\n",
       "        8.94528725e+01,  9.78886757e+01,  1.03040590e+02,  1.08636512e+02,\n",
       "        1.13857529e+02,  1.19983269e+02,  1.25370513e+02,  1.32287749e+02,\n",
       "        1.36249448e+02,  1.47223450e+02,  1.43059000e+02,  1.72980000e+02,\n",
       "        1.27600000e+02,  2.50000000e+02])"
      ]
     },
     "execution_count": 18,
     "metadata": {},
     "output_type": "execute_result"
    }
   ],
   "source": [
    "np.linalg.solve(A, b)"
   ]
  },
  {
   "cell_type": "markdown",
   "metadata": {},
   "source": [
    "$\\frac{V(x^{(n+1)}-x^{(n)})}{\\tau}+A x^{(n)}=b$"
   ]
  },
  {
   "cell_type": "markdown",
   "metadata": {},
   "source": [
    "$V(x^{(n+1)}-x^{(n)})+\\tau Ax^{(n)}=b\\tau$"
   ]
  },
  {
   "cell_type": "markdown",
   "metadata": {},
   "source": [
    "$Vx^{(n+1)}=Vx^{(n)}-\\tau V^{-1}Ax^{(n)}+V^{-1}b\\tau$"
   ]
  },
  {
   "cell_type": "markdown",
   "metadata": {},
   "source": [
    "$x^{(n+1)}=x^{(n)}(E-\\tau V^{-1}A)+V^{-1}b\\tau$"
   ]
  },
  {
   "cell_type": "code",
   "execution_count": 29,
   "metadata": {},
   "outputs": [
    {
     "name": "stdout",
     "output_type": "stream",
     "text": [
      "(0.038521784981609096+0j) (41.634592580985284+0j)\n"
     ]
    },
    {
     "data": {
      "text/plain": [
       "0.03871230842796179"
      ]
     },
     "execution_count": 29,
     "metadata": {},
     "output_type": "execute_result"
    }
   ],
   "source": [
    "E = np.zeros((n, n))\n",
    "for i in range(n):\n",
    "    E[i][i] = 1\n",
    "\n",
    "V = np.random.randint(1500, size=(n, n))\n",
    "V = (V + V.T) / 2\n",
    "eigvals, eigvecs = np.linalg.eig(V)\n",
    "V = eigvecs.dot(np.diag(np.abs(eigvals))).dot(eigvecs.T)\n",
    "\n",
    "m1 = np.linalg.eigvals(np.dot(np.linalg.inv(V), A)).min()\n",
    "M1 = np.linalg.eigvals(np.dot(np.linalg.inv(V), A)).max()\n",
    "\n",
    "m = np.linalg.eigvals(A).min()\n",
    "M = np.linalg.eigvals(A).max()\n",
    "\n",
    "print(m1, M1)\n",
    "\n",
    "np.dot(np.dot(np.ones(n), A), np.ones(n)) / np.dot(np.dot(np.ones(n), V), np.ones(n)) "
   ]
  },
  {
   "cell_type": "code",
   "execution_count": 30,
   "metadata": {},
   "outputs": [
    {
     "data": {
      "text/plain": [
       "(0.0479925733996338+0j)"
      ]
     },
     "execution_count": 30,
     "metadata": {},
     "output_type": "execute_result"
    }
   ],
   "source": [
    "tau = 2 / (m1 + M1)\n",
    "tau"
   ]
  },
  {
   "cell_type": "code",
   "execution_count": 35,
   "metadata": {},
   "outputs": [],
   "source": [
    "def method_with_operator(x, eps):\n",
    "    converge = False\n",
    "    it = 0\n",
    "    while not converge:\n",
    "        xk = np.dot(E - tau * np.dot(np.linalg.inv(V), A), x) + tau * np.dot(np.linalg.inv(V), b)\n",
    "        converge = np.linalg.norm(xk - x) <= eps\n",
    "        x = xk\n",
    "        it += 1\n",
    "    return (x, it)"
   ]
  },
  {
   "cell_type": "code",
   "execution_count": 36,
   "metadata": {},
   "outputs": [
    {
     "data": {
      "text/plain": [
       "(array([-9.24953181e-02+0.j,  5.38744186e-02+0.j,  3.36703428e-01+0.j,\n",
       "         7.56415031e-01+0.j,  1.31231080e+00+0.j,  2.00548420e+00+0.j,\n",
       "         2.83425748e+00+0.j,  3.80107753e+00+0.j,  4.90259049e+00+0.j,\n",
       "         6.14306419e+00+0.j,  7.51766117e+00+0.j,  9.03100240e+00+0.j,\n",
       "         1.06795327e+01+0.j,  1.24659872e+01+0.j,  1.43870489e+01+0.j,\n",
       "         1.64479067e+01+0.j,  1.86400567e+01+0.j,  2.09781036e+01+0.j,\n",
       "         2.34366039e+01+0.j,  2.60590319e+01+0.j,  2.87737634e+01+0.j,\n",
       "         3.16928181e+01+0.j,  3.46536168e+01+0.j,  3.78668858e+01+0.j,\n",
       "         4.11068899e+01+0.j,  4.45404547e+01+0.j,  4.80872058e+01+0.j,\n",
       "         5.18064743e+01+0.j,  5.56086131e+01+0.j,  5.96303718e+01+0.j,\n",
       "         6.36371935e+01+0.j,  6.80764185e+01+0.j,  7.20853883e+01+0.j,\n",
       "         7.72904037e+01+0.j,  8.07209401e+01+0.j,  8.75511315e+01+0.j,\n",
       "         8.94528514e+01+0.j,  9.78886504e+01+0.j,  1.03040562e+02+0.j,\n",
       "         1.08636480e+02+0.j,  1.13857504e+02+0.j,  1.19983235e+02+0.j,\n",
       "         1.25370481e+02+0.j,  1.32287720e+02+0.j,  1.36249415e+02+0.j,\n",
       "         1.47223409e+02+0.j,  1.43058972e+02+0.j,  1.72979964e+02+0.j,\n",
       "         1.27599976e+02+0.j,  2.49999955e+02+0.j]),\n",
       " 7777)"
      ]
     },
     "execution_count": 36,
     "metadata": {},
     "output_type": "execute_result"
    }
   ],
   "source": [
    "method_with_operator(np.zeros(n), 10e-5)"
   ]
  },
  {
   "cell_type": "code",
   "execution_count": null,
   "metadata": {},
   "outputs": [],
   "source": []
  }
 ],
 "metadata": {
  "kernelspec": {
   "display_name": "Python 3 (ipykernel)",
   "language": "python",
   "name": "python3"
  },
  "language_info": {
   "codemirror_mode": {
    "name": "ipython",
    "version": 3
   },
   "file_extension": ".py",
   "mimetype": "text/x-python",
   "name": "python",
   "nbconvert_exporter": "python",
   "pygments_lexer": "ipython3",
   "version": "3.11.5"
  }
 },
 "nbformat": 4,
 "nbformat_minor": 4
}
