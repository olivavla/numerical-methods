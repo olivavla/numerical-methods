{
 "cells": [
  {
   "cell_type": "code",
   "execution_count": 1,
   "metadata": {},
   "outputs": [],
   "source": [
    "import numpy as np\n",
    "from scipy import optimize\n",
    "import matplotlib.pyplot as plt\n",
    "from sympy import symbols, diff, simplify\n",
    "import sympy as sp"
   ]
  },
  {
   "cell_type": "markdown",
   "metadata": {},
   "source": [
    "# Решение систем нелинейных уравнений"
   ]
  },
  {
   "cell_type": "markdown",
   "metadata": {},
   "source": [
    "Найти с точностью $\\epsilon=10^{-6}$ все корни системы нелинейных уравнений \n",
    "\n",
    "$$\\begin{cases}\n",
    "\\cos(x_1+0.5)-x_2 = 0\\\\\n",
    "\\sin x_2-2x_1-1 = 0\n",
    "\\end{cases}$$\n",
    "\n",
    "используя метод Ньютона для системы нелинейных уравнений. Найти корни с помощью встроенного блока решения уравнений."
   ]
  },
  {
   "cell_type": "code",
   "execution_count": 2,
   "metadata": {},
   "outputs": [],
   "source": [
    "def f(x):\n",
    "    x = np.array(x)\n",
    "    return np.array([np.cos(x[0] + 0.5) - x[1] - 2, np.sin(x[1]) - 2 * x[0] - 1])\n",
    "\n",
    "def jac(x):\n",
    "    return np.array([[-np.sin(x[0] + 0.5), -1], [-2, np.cos(x[1])]])"
   ]
  },
  {
   "cell_type": "code",
   "execution_count": 3,
   "metadata": {},
   "outputs": [
    {
     "data": {
      "text/plain": [
       "array([-0.94501116, -1.09739414])"
      ]
     },
     "execution_count": 3,
     "metadata": {},
     "output_type": "execute_result"
    }
   ],
   "source": [
    "solution = optimize.root(f, jac=jac, x0=[-1, -1], method='hybr')\n",
    "solution.x"
   ]
  },
  {
   "cell_type": "code",
   "execution_count": 4,
   "metadata": {},
   "outputs": [],
   "source": [
    "x1, x2 = symbols('x1 x2')"
   ]
  },
  {
   "cell_type": "code",
   "execution_count": 5,
   "metadata": {},
   "outputs": [
    {
     "data": {
      "text/plain": [
       "[pi - asin(2*x1 + 1), asin(2*x1 + 1)]"
      ]
     },
     "execution_count": 5,
     "metadata": {},
     "output_type": "execute_result"
    }
   ],
   "source": [
    "f1 = sp.cos(x1 + 0.5) - x2 - 2\n",
    "f2 = sp.sin(x2) - 2 * x1 - 1\n",
    "sp.solve(f2, x2)"
   ]
  },
  {
   "cell_type": "code",
   "execution_count": 6,
   "metadata": {},
   "outputs": [],
   "source": [
    "def Newton(f0, A, x0, eps):\n",
    "    x = x0\n",
    "    sol = []\n",
    "    it = 0\n",
    "    for i in range(100):\n",
    "        delta = np.linalg.solve(A(x), -f0(x))\n",
    "        x += delta\n",
    "        sol.append(x)\n",
    "        it += 1\n",
    "        if i != 0 :\n",
    "            res = all(abs(sol[i] - sol[i-1]) <= eps)\n",
    "            if res == 1:\n",
    "                break\n",
    "    return (x, it)"
   ]
  },
  {
   "cell_type": "code",
   "execution_count": 7,
   "metadata": {},
   "outputs": [
    {
     "data": {
      "text/plain": [
       "(array([-0.94501079, -1.09739231]), 2)"
      ]
     },
     "execution_count": 7,
     "metadata": {},
     "output_type": "execute_result"
    }
   ],
   "source": [
    "Newton(f, jac, [-1, -1], 10e-6)"
   ]
  },
  {
   "cell_type": "code",
   "execution_count": 9,
   "metadata": {},
   "outputs": [
    {
     "data": {
      "image/png": "[encoded data removed]",
      "text/plain": [
       "<Figure size 432x288 with 1 Axes>"
      ]
     },
     "metadata": {
      "needs_background": "light"
     },
     "output_type": "display_data"
    }
   ],
   "source": [
    "x = np.linspace(-5,5,100)\n",
    "x1 = np.linspace(-1,0,100)\n",
    "fig, ax = plt.subplots()\n",
    "ax.plot(x, np.cos(x + 0.5) - 2, color='blue')\n",
    "ax.plot(x1, np.pi - np.arcsin(2 * x1 + 1), color='green')\n",
    "ax.plot(x1, np.arcsin(2 * x1 + 1), color='green')\n",
    "ax.scatter(-0.94501116, -1.09739414, color='red')\n",
    "plt.show()"
   ]
  },
  {
   "cell_type": "markdown",
   "metadata": {},
   "source": [
    "Плоская однородная пластина имеет форму геометрической фигуры, образованной пересечением двух кривых второго порядка."
   ]
  },
  {
   "cell_type": "code",
   "execution_count": 11,
   "metadata": {},
   "outputs": [],
   "source": [
    "x, y = symbols('x y')"
   ]
  },
  {
   "cell_type": "code",
   "execution_count": 12,
   "metadata": {},
   "outputs": [
    {
     "data": {
      "text/plain": [
       "[-2.88235294117647*x - 5.4761725661839*sqrt(0.5*x**2 + x + 0.245) - 3.88235294117647,\n",
       " -2.88235294117647*x + 5.4761725661839*sqrt(0.5*x**2 + x + 0.245) - 3.88235294117647]"
      ]
     },
     "execution_count": 12,
     "metadata": {},
     "output_type": "execute_result"
    }
   ],
   "source": [
    "sp.solve(sp.sqrt((-3.1 - x)**2 + (-0.3 - y)**2) - sp.sqrt((1.1 - x)**2 + (-1.7 - y)**2) - 2, y)"
   ]
  },
  {
   "cell_type": "code",
   "execution_count": 13,
   "metadata": {},
   "outputs": [
    {
     "data": {
      "text/latex": [
       "$\\displaystyle -1.71414284285429 < x \\wedge x < -0.285857157145715$"
      ],
      "text/plain": [
       "(-1.71414284285429 < x) & (x < -0.285857157145715)"
      ]
     },
     "execution_count": 13,
     "metadata": {},
     "output_type": "execute_result"
    }
   ],
   "source": [
    "sp.solve(0.5*x**2 + x + 0.245 < 0, x)"
   ]
  },
  {
   "cell_type": "code",
   "execution_count": 14,
   "metadata": {},
   "outputs": [
    {
     "data": {
      "text/plain": [
       "[-49*x/17 - sqrt(39000*x**2 + 78000*x + 19110)/51 - 66/17,\n",
       " -49*x/17 + sqrt(39000*x**2 + 78000*x + 19110)/51 - 66/17]"
      ]
     },
     "execution_count": 14,
     "metadata": {},
     "output_type": "execute_result"
    }
   ],
   "source": [
    "sp.solve(388*x+341*x**2-294*x*y-394-396*y-51*y**2, y)"
   ]
  },
  {
   "cell_type": "code",
   "execution_count": 15,
   "metadata": {},
   "outputs": [
    {
     "data": {
      "text/plain": [
       "[-sqrt(36 - x**2)/3, sqrt(36 - x**2)/3]"
      ]
     },
     "execution_count": 15,
     "metadata": {},
     "output_type": "execute_result"
    }
   ],
   "source": [
    "sp.solve(x**2 / 36 + y**2 / 4 - 1, y)"
   ]
  },
  {
   "cell_type": "code",
   "execution_count": 17,
   "metadata": {},
   "outputs": [
    {
     "data": {
      "image/png": "[encoded data removed]",
      "text/plain": [
       "<Figure size 720x720 with 1 Axes>"
      ]
     },
     "metadata": {
      "needs_background": "light"
     },
     "output_type": "display_data"
    }
   ],
   "source": [
    "x = np.linspace(-6, 6, 200)\n",
    "y = np.linspace(-6, -1.71414284285429, 200)\n",
    "z = np.linspace(-0.2858571571457149, 6, 200)\n",
    "fig, ax = plt.subplots(figsize=(10,10))\n",
    "ax.plot(x, -np.sqrt(36 - x**2)/3, color='blue')\n",
    "ax.plot(x, np.sqrt(36 - x**2)/3, color='blue')\n",
    "ax.plot(y, -49*y/17 - np.sqrt(39000*y**2 + 78000*y + 19110)/51 - 66/17, color='green')\n",
    "ax.plot(z, -49*z/17 - np.sqrt(39000*z**2 + 78000*z + 19110)/51 - 66/17, color='green')\n",
    "ax.plot(y, -49*y/17 + np.sqrt(39000*y**2 + 78000*y + 19110)/51 - 66/17, color='green')\n",
    "ax.plot(z, -49*z/17 + np.sqrt(39000*z**2 + 78000*z + 19110)/51 - 66/17, color='green')\n",
    "ax.scatter(-0.21470771, -1.99871905, color='red')\n",
    "ax.scatter(2.20456832, 1.8601039, color='red')\n",
    "ax.scatter(-2.52064465, -1.81497463, color='red')\n",
    "ax.scatter(-1.74172555,  1.9138789, color='red')\n",
    "ax = plt.gca()\n",
    "ax.grid()\n",
    "ax.set_ylim([-10, 10])\n",
    "plt.axvline(x=-1.71414284285429, linestyle='--', alpha=0.5)\n",
    "plt.axvline(x=-0.2858571571457149, linestyle='--', alpha=0.5)\n",
    "plt.show()"
   ]
  },
  {
   "cell_type": "code",
   "execution_count": 18,
   "metadata": {},
   "outputs": [],
   "source": [
    "def g(x):\n",
    "    return np.array([388 * x[0] + 341 * x[0]**2 - 294 * x[0] * x[1] - 394 - 396 * x[1] - 51 * x[1]**2, \n",
    "                     x[0]**2 / 36 + x[1]**2 / 4 - 1])\n",
    "\n",
    "def dg(x):\n",
    "    return([[682*x[0] - 294*x[1] + 388, -294*x[0] - 102*x[1] - 396], [x[0]/18, x[1]/2]])"
   ]
  },
  {
   "cell_type": "code",
   "execution_count": 19,
   "metadata": {},
   "outputs": [
    {
     "name": "stdout",
     "output_type": "stream",
     "text": [
      "(array([-2.52122979, -1.81494789]), 2)\n",
      "(array([-1.75047627,  1.91398977]), 2)\n",
      "(array([-0.21459899, -1.99872772]), 2)\n",
      "(array([2.2046785 , 1.86010751]), 2)\n"
     ]
    }
   ],
   "source": [
    "x0 = [[-3, -2], [-1, 2], [0, -2], [2, 2]]\n",
    "\n",
    "for start in x0:\n",
    "    print(Newton(g, dg, start, 10e-6))"
   ]
  },
  {
   "cell_type": "code",
   "execution_count": null,
   "metadata": {},
   "outputs": [],
   "source": []
  }
 ],
 "metadata": {
  "kernelspec": {
   "display_name": "Python 3 (ipykernel)",
   "language": "python",
   "name": "python3"
  },
  "language_info": {
   "codemirror_mode": {
    "name": "ipython",
    "version": 3
   },
   "file_extension": ".py",
   "mimetype": "text/x-python",
   "name": "python",
   "nbconvert_exporter": "python",
   "pygments_lexer": "ipython3",
   "version": "3.11.5"
  }
 },
 "nbformat": 4,
 "nbformat_minor": 4
}
