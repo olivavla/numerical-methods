{
 "cells": [
  {
   "cell_type": "code",
   "execution_count": 68,
   "metadata": {},
   "outputs": [],
   "source": [
    "import numpy as np\n",
    "import matplotlib.pyplot as plt"
   ]
  },
  {
   "cell_type": "markdown",
   "metadata": {},
   "source": [
    "# Решение систем нелинейных алгебраических уравнений"
   ]
  },
  {
   "cell_type": "markdown",
   "metadata": {},
   "source": [
    "Дана система уравнений $Ax=b$ порядка $n$. Исследовать зависимость погрешности решения $x$ от погрешностей правой части системы $b$."
   ]
  },
  {
   "cell_type": "code",
   "execution_count": 539,
   "metadata": {},
   "outputs": [],
   "source": [
    "def find_matrix(n):\n",
    "    N = 9\n",
    "    C = []\n",
    "    for i in range(1, n+1):\n",
    "        for j in range(1, n+1):\n",
    "            C.append(0.1 * N * i * j)\n",
    "    A = [3 / (1 + c)**2 for c in C]\n",
    "    A = np.reshape(A, (n, n))\n",
    "    return np.array(A)"
   ]
  },
  {
   "cell_type": "code",
   "execution_count": 659,
   "metadata": {},
   "outputs": [],
   "source": [
    "A = find_matrix(5)\n",
    "\n",
    "b = [9] * 5"
   ]
  },
  {
   "cell_type": "code",
   "execution_count": 534,
   "metadata": {},
   "outputs": [
    {
     "name": "stdout",
     "output_type": "stream",
     "text": [
      "Решение СЛАУ:  [    28611.58172897  -1307278.05534032   9979537.72861096\n",
      " -22626051.2231438   15099002.72111442]\n"
     ]
    }
   ],
   "source": [
    "x = np.linalg.solve(A, b)\n",
    "print('Решение СЛАУ: ', x)"
   ]
  },
  {
   "cell_type": "code",
   "execution_count": 535,
   "metadata": {},
   "outputs": [
    {
     "name": "stdout",
     "output_type": "stream",
     "text": [
      "Число обусловленности матрицы:  82531213.63648272\n"
     ]
    }
   ],
   "source": [
    "print('Число обусловленности матрицы: ', np.linalg.cond(A, 2))"
   ]
  },
  {
   "cell_type": "code",
   "execution_count": 131,
   "metadata": {},
   "outputs": [
    {
     "name": "stdout",
     "output_type": "stream",
     "text": [
      "Вектор d:  [2.1993248924422867e-05, 0.0011179583551645595, 0.008773112033230987, 0.02088330126178449, 0.013623052152092054]\n"
     ]
    }
   ],
   "source": [
    "X = []\n",
    "d = []\n",
    "\n",
    "for i in range(1, n+1):\n",
    "    bj = [b[j]+0.01 if j==i-1 else b[j] for j in range(len(b))]\n",
    "    X.append(np.linalg.solve(A, bj))\n",
    "    d.append((np.linalg.norm(x - X[i-1], 2)) / np.linalg.norm(X[i-1], 2))\n",
    "\n",
    "print('Вектор d: ', d)"
   ]
  },
  {
   "cell_type": "code",
   "execution_count": 132,
   "metadata": {},
   "outputs": [
    {
     "data": {
      "image/png": "[encoded data removed]",
      "text/plain": [
       "<Figure size 576x576 with 1 Axes>"
      ]
     },
     "metadata": {
      "needs_background": "light"
     },
     "output_type": "display_data"
    }
   ],
   "source": [
    "plt.figure(figsize=(8, 8))\n",
    "plt.bar(np.arange(5), d, color='lightblue', edgecolor='black')\n",
    "plt.grid(axis='y')\n",
    "plt.yticks(d)\n",
    "plt.show()"
   ]
  },
  {
   "cell_type": "code",
   "execution_count": 661,
   "metadata": {},
   "outputs": [
    {
     "data": {
      "text/plain": [
       "41010.089768162004"
      ]
     },
     "execution_count": 661,
     "metadata": {},
     "output_type": "execute_result"
    }
   ],
   "source": [
    "np.linalg.cond(A) * np.linalg.norm(b - np.array([9, 9, 9, 9.01, 9]), 2) / np.linalg.norm(b, 2)"
   ]
  },
  {
   "cell_type": "code",
   "execution_count": 660,
   "metadata": {},
   "outputs": [
    {
     "name": "stdout",
     "output_type": "stream",
     "text": [
      "Теоретическая погрешность:  0.020456129246650787\n"
     ]
    }
   ],
   "source": [
    "print('Теоретическая погрешность: ', np.linalg.norm(x - X[3], 2) / np.linalg.norm(x, 2))"
   ]
  },
  {
   "cell_type": "markdown",
   "metadata": {},
   "source": [
    "Дана система уравнений $Ax=b$ порядка $n$ с симметричной положительно определенной матрицей $A$. Решить систему методом Холецкого."
   ]
  },
  {
   "cell_type": "code",
   "execution_count": 675,
   "metadata": {},
   "outputs": [],
   "source": [
    "n = 30\n",
    "m = 9\n",
    "A = []\n",
    "\n",
    "for i in range(1, n+1):\n",
    "    for j in range(1, n+1):\n",
    "        if i == j:\n",
    "            A.append(n + m**2 + j / m + i / n)\n",
    "        elif i != j:\n",
    "            A.append((i + j) / (n + m))\n",
    "            \n",
    "A = np.reshape(A, (n, n))\n"
   ]
  },
  {
   "cell_type": "code",
   "execution_count": 676,
   "metadata": {},
   "outputs": [],
   "source": [
    "b = []\n",
    "\n",
    "for i in range(1, n+1):\n",
    "    b.append(i**2 - 100)"
   ]
  },
  {
   "cell_type": "code",
   "execution_count": 678,
   "metadata": {},
   "outputs": [],
   "source": [
    "L = np.linalg.cholesky(A)"
   ]
  },
  {
   "cell_type": "code",
   "execution_count": 157,
   "metadata": {},
   "outputs": [],
   "source": [
    "# np.dot(L, L.T)"
   ]
  },
  {
   "cell_type": "code",
   "execution_count": 162,
   "metadata": {},
   "outputs": [],
   "source": [
    "y = np.linalg.solve(L, b)"
   ]
  },
  {
   "cell_type": "code",
   "execution_count": 680,
   "metadata": {},
   "outputs": [
    {
     "data": {
      "text/plain": [
       "array([-1.19421606, -1.17628984, -1.14042087, -1.08665417, -1.01503464,\n",
       "       -0.92560698, -0.81841578, -0.69350547, -0.55092032, -0.39070448,\n",
       "       -0.21290192, -0.01755648,  0.19528813,  0.42558837,  0.67330083,\n",
       "        0.93838226,  1.22078953,  1.52047967,  1.83740985,  2.17153737,\n",
       "        2.52281968,  2.89121438,  3.27667918,  3.67917196,  4.09865073,\n",
       "        4.53507363,  4.98839893,  5.45858506,  5.94559058,  6.44937417])"
      ]
     },
     "execution_count": 680,
     "metadata": {},
     "output_type": "execute_result"
    }
   ],
   "source": [
    "x = np.linalg.solve(L.T, y)\n",
    "x"
   ]
  },
  {
   "cell_type": "code",
   "execution_count": 164,
   "metadata": {},
   "outputs": [
    {
     "data": {
      "text/plain": [
       "array([-1.19421606, -1.17628984, -1.14042087, -1.08665417, -1.01503464,\n",
       "       -0.92560698, -0.81841578, -0.69350547, -0.55092032, -0.39070448,\n",
       "       -0.21290192, -0.01755648,  0.19528813,  0.42558837,  0.67330083,\n",
       "        0.93838226,  1.22078953,  1.52047967,  1.83740985,  2.17153737,\n",
       "        2.52281968,  2.89121438,  3.27667918,  3.67917196,  4.09865073,\n",
       "        4.53507363,  4.98839893,  5.45858506,  5.94559058,  6.44937417])"
      ]
     },
     "execution_count": 164,
     "metadata": {},
     "output_type": "execute_result"
    }
   ],
   "source": [
    "np.linalg.solve(A, b)"
   ]
  },
  {
   "cell_type": "markdown",
   "metadata": {},
   "source": [
    "Исследовать зависимость числа обусловленности матрицы $A$ из задачи первой от порядка $n$ матрицы."
   ]
  },
  {
   "cell_type": "code",
   "execution_count": 710,
   "metadata": {},
   "outputs": [],
   "source": [
    "def LU(a, m, step):\n",
    "    n = a.shape[0]\n",
    "    U = np.matrix(np.zeros([n, n]))\n",
    "    L = np.matrix(np.zeros([n, n]))\n",
    "    for i in range(n):\n",
    "        for j in range(n):\n",
    "            L[i, step-1] = a[i, step-1] / a[step-1, step-1]\n",
    "            U[i, j] = a[i, j] - (a[i, step-1] / a[step-1, step-1]) * a[step-1, j]\n",
    "            for k in range(step):\n",
    "                U[k] = a[k]\n",
    "        U[i+1:, i] = 0\n",
    "        m[i, i] = 1\n",
    "        m[i, i+1:] = 0\n",
    "    m[k+1:, k] = L[k+1:, k]\n",
    "    L = m\n",
    "    return (U, L)"
   ]
  },
  {
   "cell_type": "code",
   "execution_count": 711,
   "metadata": {},
   "outputs": [],
   "source": [
    "def find_LU(n):\n",
    "    b = find_matrix(n)\n",
    "    m = np.matrix(np.zeros([b.shape[0], b.shape[0]]))\n",
    "    for i in range(1, b.shape[0]+1):\n",
    "        b, m = LU(b, m, i)\n",
    "    L, U = m, b\n",
    "    return (L, U)"
   ]
  },
  {
   "cell_type": "code",
   "execution_count": 719,
   "metadata": {},
   "outputs": [],
   "source": [
    "def E(n):\n",
    "    a = np.array(np.zeros([n, n]))\n",
    "    for i in range(len(a)):\n",
    "        a[i, i] = 1\n",
    "    return a"
   ]
  },
  {
   "cell_type": "code",
   "execution_count": 723,
   "metadata": {},
   "outputs": [],
   "source": [
    "def find_inv(n):\n",
    "    inv = []\n",
    "    for elem in E(n):\n",
    "        L, U = find_LU(n)\n",
    "        inv.append(np.linalg.solve(L@U, elem))\n",
    "    return inv"
   ]
  },
  {
   "cell_type": "code",
   "execution_count": 738,
   "metadata": {},
   "outputs": [
    {
     "name": "stdout",
     "output_type": "stream",
     "text": [
      "Обратная матрица размера 1: [array([1.20333333])]\n",
      "--------------------\n",
      "Обратная матрица размера 2: [array([-4.95668177, 13.37798293]), array([ 13.37798293, -29.05356958])]\n",
      "--------------------\n",
      "Обратная матрица размера 3: [array([  11.85504287, -113.64906655,  158.05710573]), array([ -113.64906655,   930.74512142, -1194.25747351]), array([  158.05710573, -1194.25747351,  1485.98964178])]\n",
      "--------------------\n",
      "Обратная матрица размера 4: [array([  -22.06182696,   576.47263748, -2325.43450507,  2174.79734732]), array([   576.47263748, -13111.46952738,  49338.45592123, -44251.57329541]), array([  -2325.43450507,   49338.45592123, -180362.47136666,\n",
      "        159244.9714329 ]), array([   2174.79734732,  -44251.57329541,  159244.9714329 ,\n",
      "       -139451.06153792])]\n",
      "--------------------\n",
      "Обратная матрица размера 5: [array([ 3.54792245e+01, -2.28068534e+03,  2.01275702e+04, -4.94869391e+04,\n",
      "        3.47836396e+04]), array([-2.28068534e+03,  1.28758578e+05, -1.06554874e+06,  2.52097340e+06,\n",
      "       -1.72715567e+06]), array([    20127.57022348,  -1065548.74039832,   8580989.78926044,\n",
      "       -19999601.32894756,  13572870.23528047]), array([   -49486.93908793,   2520973.4016076 , -19999601.32896151,\n",
      "        46243695.29235119, -31229586.1174098 ]), array([    34783.63961493,  -1727155.67100768,  13572870.23529573,\n",
      "       -31229586.11742328,  21026754.88256007])]\n",
      "--------------------\n",
      "Обратная матрица размера 6: [array([-5.18385306e+01,  7.77007622e+03, -1.33884496e+05,  6.50382864e+05,\n",
      "       -1.13448661e+06,  6.37771810e+05]), array([ 7.77007622e+03, -1.02814024e+06,  1.66621007e+07, -7.80379519e+07,\n",
      "        1.32862385e+08, -7.34110993e+07]), array([-1.33884496e+05,  1.66621007e+07, -2.63067273e+08,  1.21443885e+09,\n",
      "       -2.04879952e+09,  1.12490929e+09]), array([ 6.50382863e+05, -7.80379518e+07,  1.21443885e+09, -5.56335701e+09,\n",
      "        9.34071247e+09, -5.11187249e+09]), array([-1.13448661e+06,  1.32862385e+08, -2.04879952e+09,  9.34071247e+09,\n",
      "       -1.56366470e+10,  8.54038912e+09]), array([ 6.37771809e+05, -7.34110993e+07,  1.12490929e+09, -5.11187249e+09,\n",
      "        8.54038912e+09, -4.65830667e+09])]\n",
      "--------------------\n",
      "Обратная матрица размера 7: [array([ 7.07597891e+01, -2.39386944e+04,  7.57257824e+05, -6.47039693e+06,\n",
      "        2.10266740e+07, -2.82475462e+07,  1.32182924e+07]), array([-2.39386958e+04,  7.17300131e+06, -2.13822531e+08,  1.76367719e+09,\n",
      "       -5.59888979e+09,  7.39747397e+09, -3.41877293e+09]), array([ 7.57257878e+05, -2.13822534e+08,  6.21446586e+09, -5.05450680e+10,\n",
      "        1.59036191e+11, -2.08836620e+11,  9.60810913e+10]), array([-6.47039742e+06,  1.76367724e+09, -5.05450685e+10,  4.08027206e+11,\n",
      "       -1.27782827e+12,  1.67261097e+12, -7.67747512e+11]), array([ 2.10266756e+07, -5.59888997e+09,  1.59036193e+11, -1.27782828e+12,\n",
      "        3.99026713e+12, -5.21283797e+12,  2.38936977e+12]), array([-2.82475484e+07,  7.39747423e+09, -2.08836623e+11,  1.67261098e+12,\n",
      "       -5.21283799e+12,  6.80099494e+12, -3.11435430e+12]), array([ 1.32182934e+07, -3.41877306e+09,  9.60810933e+10, -7.67747521e+11,\n",
      "        2.38936979e+12, -3.11435431e+12,  1.42516852e+12])]\n",
      "--------------------\n",
      "Обратная матрица размера 8: [array([-9.25296497e+01,  6.90159257e+04, -3.85405253e+06,  5.43484975e+07,\n",
      "       -2.92619645e+08,  7.04800125e+08, -7.67372503e+08,  3.07325016e+08]), array([ 6.90163698e+04, -4.57428835e+07,  2.41123894e+09, -3.28584437e+10,\n",
      "        1.72949260e+11, -4.09901568e+11,  4.40944956e+11, -1.74949657e+11]), array([-3.85408623e+06,  2.41124560e+09, -1.24010429e+11,  1.66700029e+12,\n",
      "       -8.69843823e+12,  2.04926695e+13, -2.19480589e+13,  8.67895936e+12]), array([ 5.43490322e+07, -3.28585832e+10,  1.66700285e+12, -2.22448341e+13,\n",
      "        1.15544205e+14, -2.71361433e+14,  2.89974417e+14, -1.14467584e+14]), array([-2.92622706e+08,  1.72950153e+11, -8.69846003e+12,  1.15544319e+14,\n",
      "       -5.98467880e+14,  1.40283990e+15, -1.49698520e+15,  5.90316113e+14]), array([ 7.04807776e+08, -4.09903939e+11,  2.04927346e+13, -2.71361884e+14,\n",
      "        1.40284086e+15, -3.28407304e+15,  3.50119533e+15, -1.37967558e+15]), array([-7.67381041e+08,  4.40947704e+11, -2.19481393e+13,  2.89975044e+14,\n",
      "       -1.49698698e+15,  3.50119710e+15, -3.73016481e+15,  1.46915770e+15]), array([ 3.07328496e+08, -1.74950807e+11,  8.67899438e+12, -1.14467875e+14,\n",
      "        5.90317042e+14, -1.37967680e+15,  1.46915827e+15, -5.78419707e+14])]\n",
      "--------------------\n",
      "Обратная матрица размера 9: [array([-1.38373540e+01, -2.10149237e+04,  3.60101017e+06, -9.91572575e+07,\n",
      "        9.25865275e+08, -3.80572309e+09,  7.57679271e+09, -7.16033945e+09,\n",
      "        2.57047704e+09]), array([-2.40737380e+04,  6.05366618e+07, -6.38164918e+09,  1.48108137e+11,\n",
      "       -1.26308164e+12,  4.90482713e+12, -9.38946879e+12,  8.62183515e+12,\n",
      "       -3.02770637e+12]), array([ 3.95865675e+06, -6.50111752e+09,  6.13089982e+11, -1.35004481e+13,\n",
      "        1.11646244e+14, -4.24865189e+14,  8.01761677e+14, -7.28387840e+14,\n",
      "        2.53677101e+14]), array([-1.07692328e+08,  1.51908739e+11, -1.36114720e+13,  2.92111849e+14,\n",
      "       -2.37853279e+15,  8.95803600e+15, -1.67796811e+16,  1.51593286e+16,\n",
      "       -5.25670017e+15]), array([ 9.99459846e+08, -1.29994398e+12,  1.13081920e+14, -2.38994864e+15,\n",
      "        1.92791083e+16, -7.21526818e+16,  1.34540374e+17, -1.21133049e+17,\n",
      "        4.18923832e+16]), array([-4.09301584e+09,  5.05830557e+12, -4.31589578e+14,  9.02932637e+15,\n",
      "       -7.23831302e+16,  2.69750545e+17, -5.01456315e+17,  4.50441081e+17,\n",
      "       -1.55497646e+17]), array([ 8.12831731e+09, -9.69635986e+12,  8.16103449e+14, -1.69507316e+16,\n",
      "        1.35277598e+17, -5.02607231e+17,  9.32271214e+17, -8.36030482e+17,\n",
      "        2.88230376e+17]), array([-7.66759548e+09,  8.91214120e+12, -7.42519439e+14,  1.53391056e+16,\n",
      "       -1.22004729e+17,  4.52255496e+17, -8.37481565e+17,  7.50079661e+17,\n",
      "       -2.58342210e+17]), array([ 2.74878318e+09, -3.13187336e+12,  2.58892531e+14, -5.32581256e+15,\n",
      "        4.22498238e+16, -1.56334661e+17,  2.89122911e+17, -2.58693975e+17,\n",
      "        8.90303376e+16])]\n",
      "--------------------\n",
      "Обратная матрица размера 10: [array([-1.35814526e+02,  1.24006349e+05, -7.61470342e+06,  9.95123445e+07,\n",
      "       -2.48102705e+08, -1.80675182e+09,  1.12740533e+10, -2.38436691e+10,\n",
      "        2.21886048e+10, -7.67514332e+09]), array([ 8.50434178e+04, -6.92497942e+07,  3.72234057e+09, -3.33580163e+10,\n",
      "       -1.55793822e+11,  2.74831155e+12, -1.15244843e+13,  2.16116920e+13,\n",
      "       -1.89945264e+13,  6.35894695e+12]), array([-1.47733749e+06, -2.82351475e+07,  1.00439450e+11, -3.96877032e+12,\n",
      "        4.89869421e+13, -2.69073394e+14,  7.54180704e+14, -1.12151127e+15,\n",
      "        8.41271509e+14, -2.50221732e+14]), array([-9.71489627e+07,  1.39025468e+11, -1.21917357e+13,  2.51121618e+14,\n",
      "       -1.91371020e+15,  6.44134568e+15, -9.63774907e+15,  4.28995557e+15,\n",
      "        3.12142388e+15, -2.56308806e+15]), array([ 2.05301643e+09, -2.54819439e+12,  2.04329527e+14, -3.80831924e+15,\n",
      "        2.48790099e+16, -6.01313549e+16,  9.37451305e+15,  1.76797056e+17,\n",
      "       -2.53427947e+17,  1.06607617e+17]), array([-1.43331851e+10,  1.72082280e+13, -1.34099399e+15,  2.40061397e+16,\n",
      "       -1.44977891e+17,  2.70092865e+17,  3.42065375e+17, -1.82980898e+18,\n",
      "        2.21125536e+18, -8.74874567e+17]), array([ 4.66570219e+10, -5.54311106e+13,  4.26436643e+15, -7.47092849e+16,\n",
      "        4.29898180e+17, -6.42473994e+17, -1.80033816e+18,  7.01553815e+18,\n",
      "       -8.02109836e+18,  3.10096129e+18]), array([-7.72363126e+10,  9.15105678e+13, -6.99238738e+15,  1.20876526e+17,\n",
      "       -6.72999276e+17,  8.27483831e+17,  3.70607398e+18, -1.27825963e+19,\n",
      "        1.42179956e+19, -5.43032479e+18]), array([ 6.29426192e+10, -7.46089528e+13,  5.67866955e+15, -9.72825524e+16,\n",
      "        5.28776099e+17, -5.44101251e+17, -3.44127687e+18,  1.11189090e+19,\n",
      "       -1.21653097e+19,  4.61168602e+18]), array([-2.00197899e+10,  2.37745393e+13, -1.80523124e+15,  3.07252394e+16,\n",
      "       -1.63971220e+17,  1.42888100e+17,  1.19637237e+18, -3.71094065e+18,\n",
      "        4.01582326e+18, -1.51463147e+18])]\n",
      "--------------------\n",
      "Обратная матрица размера 11: [array([-4.61140273e+01,  4.11215288e+04, -3.93256746e+06,  1.13847600e+08,\n",
      "       -1.30539112e+09,  6.70897205e+09, -1.56287598e+10,  1.17576148e+10,\n",
      "        1.27061171e+10, -2.54658987e+10,  1.11563750e+10]), array([ 9.49930124e+04, -1.17886330e+08,  1.16726691e+10, -2.96326811e+11,\n",
      "        2.89420569e+12, -1.28056828e+13,  2.56686912e+13, -1.39997199e+13,\n",
      "       -2.63025178e+13,  4.14366318e+13, -1.66436795e+13]), array([-1.37578139e+07,  1.83559267e+10, -1.74944980e+12,  4.12840758e+13,\n",
      "       -3.71615549e+14,  1.51070667e+15, -2.73895079e+15,  1.08009035e+15,\n",
      "        3.23464282e+15, -4.41184749e+15,  1.65954612e+15]), array([ 4.60316385e+08, -6.19575855e+11,  5.72631811e+13, -1.29378063e+15,\n",
      "        1.10817908e+16, -4.25889745e+16,  7.15874393e+16, -1.95027919e+16,\n",
      "       -9.34616163e+16,  1.15008441e+17, -4.09059537e+16]), array([-5.64182354e+09,  7.54933948e+12, -6.82899103e+14,  1.50082582e+16,\n",
      "       -1.24463549e+17,  4.60098610e+17, -7.30206747e+17,  1.28353814e+17,\n",
      "        1.02295423e+18, -1.16680617e+18,  3.95627903e+17]), array([ 3.15134017e+10, -4.18258874e+13,  3.72910611e+15, -8.05136295e+16,\n",
      "        6.53798016e+17, -2.35432233e+18,  3.58672780e+18, -3.82616053e+17,\n",
      "       -5.24671669e+18,  5.67234023e+18, -1.85071548e+18]), array([-8.83452817e+10,  1.16496773e+14, -1.02983873e+16,  2.20133799e+17,\n",
      "       -1.76664169e+18,  6.26949643e+18, -9.34187526e+18,  6.92687779e+17,\n",
      "        1.38123404e+19, -1.44938703e+19,  4.61168602e+18]), array([ 1.24525678e+11, -1.63900793e+14,  1.44712787e+16, -3.09050382e+17,\n",
      "        2.47915741e+18, -8.80562773e+18,  1.32036585e+19, -1.35130178e+18,\n",
      "       -1.86873412e+19,  1.97398472e+19, -6.27455541e+18]), array([-7.48315704e+10,  9.98129843e+13, -8.96844706e+15,  1.95648581e+17,\n",
      "       -1.61193046e+18,  5.94321729e+18, -9.57089075e+18,  2.54541909e+18,\n",
      "        1.12245969e+19, -1.31502827e+19,  4.42994470e+18]), array([ 8.75784721e+08, -3.75902351e+12,  6.09314462e+14, -2.01225189e+16,\n",
      "        2.33059800e+17, -1.18494840e+18,  2.81231431e+18, -2.61893164e+18,\n",
      "       -7.31833355e+17,  2.82348124e+18, -1.31762458e+18]), array([ 1.15404673e+10, -1.38707273e+13,  1.09239613e+15, -2.00008353e+16,\n",
      "        1.27328048e+17, -2.89612880e+17, -2.66191100e+16,  1.00895464e+18,\n",
      "       -1.31155017e+18,  4.68463689e+17,  4.47074005e+16])]\n",
      "--------------------\n",
      "Обратная матрица размера 12: [array([ 1.02999324e+02, -1.50873755e+05,  1.26029999e+07, -2.28436909e+08,\n",
      "        1.32745936e+09, -2.07492666e+09, -3.95348012e+09,  1.28193351e+10,\n",
      "       -3.45421729e+09, -1.51757494e+10,  1.31588448e+10, -2.37807500e+09]), array([-1.50928398e+05,  2.03488868e+08, -1.64667733e+10,  2.97621785e+11,\n",
      "       -1.78646163e+12,  3.33592810e+12,  2.89976668e+12, -1.39343427e+13,\n",
      "        4.82484663e+12,  1.74515817e+13, -1.69787893e+13,  3.85276256e+12]), array([ 1.26677288e+07, -1.65473422e+10,  1.34232222e+12, -2.48518407e+13,\n",
      "        1.58035097e+14, -3.54954186e+14, -1.14011759e+13,  9.23076091e+14,\n",
      "       -4.66425600e+14, -1.25693079e+15,  1.43406157e+15, -3.98568208e+14]), array([-2.34814177e+08,  3.06019907e+11, -2.54424765e+13,  4.92889700e+14,\n",
      "       -3.39521507e+15,  9.18114108e+15, -5.98463245e+15, -1.22120268e+16,\n",
      "        1.15096921e+16,  1.91772080e+16, -2.85943876e+16,  9.80934548e+15]), array([ 1.48195278e+09, -1.99135509e+12,  1.74891496e+14, -3.65260560e+15,\n",
      "        2.80024304e+16, -9.09811838e+16,  1.09811837e+17,  2.88272962e+16,\n",
      "       -1.15637697e+17, -7.27650105e+16,  2.06713429e+17, -9.04426761e+16]), array([-3.53032340e+09,  5.26404288e+12, -5.20002565e+14,  1.23110108e+16,\n",
      "       -1.08485058e+17,  4.19539884e+17, -6.88030408e+17,  1.86589444e+17,\n",
      "        5.84512300e+17, -1.56950737e+17, -6.26151604e+17,  3.78235250e+17]), array([ 2.47380149e+09, -5.57122077e+12,  7.20904036e+14, -2.07681293e+16,\n",
      "        2.14153257e+17, -9.53870346e+17,  1.83425990e+18, -8.35218997e+17,\n",
      "       -1.62483055e+18,  1.38110389e+18,  7.68614336e+17, -7.68614336e+17]), array([-1.16413779e+09,  4.28025706e+12, -6.41589470e+14,  1.97801922e+16,\n",
      "       -2.11079088e+17,  9.49826732e+17, -1.76641649e+18,  4.48699763e+17,\n",
      "        2.45287299e+18, -2.13230884e+18, -5.49850152e+17,  7.94354218e+17]), array([ 9.67590648e+09, -1.16540343e+13,  8.92228958e+14, -1.50792772e+16,\n",
      "        7.51740574e+16, -2.27312385e+15, -8.86142507e+17,  2.26186989e+18,\n",
      "       -1.57226914e+18, -1.18191562e+18,  2.04455115e+18, -7.23168670e+17]), array([-1.48408325e+10,  1.56515898e+13, -9.66597065e+14,  9.67846054e+15,\n",
      "        3.68885820e+16, -7.20199653e+17,  2.78479285e+18, -3.77156430e+18,\n",
      "       -5.15665082e+17,  5.86068432e+18, -4.91913175e+18,  1.22978294e+18]), array([ 4.37713564e+09, -4.34904989e+12,  2.24923244e+14, -2.87513172e+14,\n",
      "       -4.86718944e+16,  4.54718705e+17, -1.53127727e+18,  1.78817019e+18,\n",
      "        1.29653873e+18, -5.18664557e+18,  4.59247066e+18, -1.36429045e+18]), array([ 1.81070512e+09, -1.98498031e+12,  1.43770258e+14, -2.51387173e+15,\n",
      "        1.74795803e+16, -6.51022778e+16,  1.45114014e+17, -8.99372643e+16,\n",
      "       -5.17511053e+17,  1.46709475e+18, -1.48929875e+18,  5.35815580e+17])]\n",
      "--------------------\n",
      "Обратная матрица размера 13: [array([ 7.69496119e+01, -1.22910856e+05,  1.08630766e+07, -2.12035671e+08,\n",
      "        1.43012427e+09, -3.74009251e+09,  2.57034074e+09,  3.58458373e+09,\n",
      "       -4.20265295e+09, -1.55282132e+09,  3.41826340e+09, -3.01543401e+09,\n",
      "        1.75768890e+09]), array([-1.12436438e+05,  1.65795022e+08, -1.45884751e+10,  2.97581518e+11,\n",
      "       -2.22526343e+12,  7.26813078e+12, -1.02275356e+13,  3.04872715e+12,\n",
      "        5.80873807e+12, -2.76626685e+12, -6.06015717e+12,  8.41867084e+12,\n",
      "       -3.58982434e+12]), array([ 8.98478052e+06, -1.32295023e+10,  1.21754320e+12, -2.67561776e+13,\n",
      "        2.22497765e+14, -8.45286918e+14,  1.51121896e+15, -9.51148779e+14,\n",
      "       -5.51704911e+14,  6.65029414e+14,  6.72246313e+14, -1.10827706e+15,\n",
      "        4.12790309e+14]), array([-1.52225370e+08,  2.37661006e+11, -2.37863785e+13,  5.74902060e+14,\n",
      "       -5.29826213e+15,  2.24607040e+16, -4.53342576e+16,  3.44672534e+16,\n",
      "        1.33245495e+16, -2.31344234e+16, -1.74913481e+16,  3.08180475e+16,\n",
      "       -1.03599660e+16]), array([ 8.13112986e+08, -1.49181309e+12,  1.71604441e+14, -4.66091410e+15,\n",
      "        4.73513285e+16, -2.17704789e+17,  4.70514454e+17, -3.83798737e+17,\n",
      "       -1.31142882e+17,  2.57791631e+17,  1.69457144e+17, -2.97700295e+17,\n",
      "        8.93090963e+16]), array([-1.25886505e+09,  3.84353280e+12, -5.60112878e+14,  1.74580531e+16,\n",
      "       -1.93586813e+17,  9.42089188e+17, -2.10664121e+18,  1.73086257e+18,\n",
      "        6.55125372e+17, -1.20771701e+18, -7.48847948e+17,  1.22287154e+18,\n",
      "       -3.07868936e+17]), array([-6.40949602e+08, -4.57071448e+12,  9.51866125e+14, -3.37348396e+16,\n",
      "        3.97299243e+17, -1.98577695e+18,  4.43865911e+18, -3.42399365e+18,\n",
      "       -1.83672761e+18,  2.68189336e+18,  1.65795490e+18, -2.31760751e+18,\n",
      "        4.11757680e+17]), array([ 6.00672823e+08,  5.56665689e+12, -1.12163630e+15,  3.90853748e+16,\n",
      "       -4.53021266e+17,  2.21655019e+18, -4.76071406e+18,  3.14991125e+18,\n",
      "        2.90548319e+18, -3.27123193e+18, -2.00898520e+18,  2.55606005e+18,\n",
      "       -3.60747463e+17]), array([ 4.55465493e+09, -9.77868865e+12,  1.25096135e+15, -3.67118836e+16,\n",
      "        3.95982186e+17, -1.90788903e+18,  4.24678190e+18, -3.30278548e+18,\n",
      "       -2.15637390e+18,  3.50638101e+18,  1.87401399e+18, -4.03927616e+18,\n",
      "        1.41511674e+18]), array([-2.07581943e+09,  4.56447802e+12, -6.40351101e+14,  2.12215543e+16,\n",
      "       -2.63905449e+17,  1.50290023e+18, -4.15945984e+18,  4.97638720e+18,\n",
      "       -3.21113897e+17, -3.03445614e+18, -1.95109120e+18,  5.86009799e+18,\n",
      "       -2.63267099e+18]), array([-3.47425912e+09,  6.71152255e+12, -7.93629497e+14,  2.15491783e+16,\n",
      "       -2.12763433e+17,  9.14947277e+17, -1.70064364e+18,  6.85777379e+17,\n",
      "        1.79234648e+18, -2.20821448e+18,  9.90979490e+17, -7.37802537e+17,\n",
      "        4.58815701e+17]), array([-2.08616150e+09, -4.08042561e+12,  1.09801867e+15, -4.32029802e+16,\n",
      "        5.55966456e+17, -3.07126646e+18,  7.89061898e+18, -8.17661153e+18,\n",
      "       -1.13630779e+18,  6.67913296e+18,  5.88225257e+17, -5.59990445e+18,\n",
      "        2.30584301e+18]), array([ 3.78743520e+09, -1.05923551e+12, -3.30804117e+14,  1.84482133e+16,\n",
      "       -2.68959285e+17,  1.59057717e+18, -4.29417573e+18,  4.73350510e+18,\n",
      "        2.15002328e+17, -3.39487893e+18, -5.58075435e+17,  3.33713120e+18,\n",
      "       -1.37447547e+18])]\n",
      "--------------------\n",
      "Обратная матрица размера 14: [array([ 7.00833600e+01, -1.04265338e+05,  8.40262023e+06, -1.43871101e+08,\n",
      "        7.85204408e+08, -1.27973076e+09, -8.02978132e+08,  2.77647233e+09,\n",
      "       -1.05987905e+08, -1.36407243e+09,  1.79807915e+09, -2.14291007e+09,\n",
      "       -3.21645537e+09,  3.76943351e+09]), array([-1.11926863e+05,  1.54622181e+08, -1.26532201e+10,  2.35984450e+11,\n",
      "       -1.57272315e+12,  4.41229054e+12, -5.04947022e+12,  9.61685599e+11,\n",
      "        2.39578321e+12, -1.07105708e+12, -4.71775734e+12,  7.11214810e+12,\n",
      "       -2.09419299e+11, -2.55589941e+12]), array([ 9.58671738e+06, -1.31843625e+10,  1.13200437e+12, -2.29937232e+13,\n",
      "        1.74569985e+14, -5.96894401e+14,  9.43065788e+14, -4.85898342e+14,\n",
      "       -3.80976026e+14,  3.37837381e+14,  5.94916606e+14, -9.41778832e+14,\n",
      "        3.25251687e+14,  5.52857063e+13]), array([-1.74864888e+08,  2.47468065e+11, -2.26088102e+13,  4.98356078e+14,\n",
      "       -4.17781828e+15,  1.60449680e+16, -2.90290171e+16,  1.84752080e+16,\n",
      "        1.06713319e+16, -1.21517870e+16, -1.56123308e+16,  2.48792236e+16,\n",
      "       -1.04338868e+16,  8.31679229e+14]), array([ 1.01724269e+09, -1.52558332e+12,  1.50783867e+14, -3.62445330e+15,\n",
      "        3.32858710e+16, -1.40506657e+17,  2.81061240e+17, -2.06872569e+17,\n",
      "       -9.20602014e+16,  1.35369184e+17,  1.36952640e+17, -2.14181309e+17,\n",
      "        7.03616176e+16,  3.25614385e+13]), array([-1.70273241e+09,  2.91194081e+12, -3.30754407e+14,  9.09634304e+15,\n",
      "       -9.51178277e+16,  4.56111689e+17, -1.04200021e+18,  9.22893790e+17,\n",
      "        2.70941469e+17, -6.32253973e+17, -4.61834087e+17,  6.89590675e+17,\n",
      "        6.20150576e+16, -1.79112919e+17]), array([-1.63956268e+09,  1.93371587e+12, -1.04023608e+14, -5.31289162e+14,\n",
      "        4.28423465e+16, -3.94665924e+17,  1.37899307e+18, -1.80867493e+18,\n",
      "       -1.10959821e+17,  1.46577310e+18,  4.97779218e+17, -7.20575940e+17,\n",
      "       -1.49879796e+18,  1.15292150e+18]), array([ 4.07005434e+09, -7.48541549e+12,  7.94406715e+14, -1.79518597e+16,\n",
      "        1.27492952e+17, -2.40665548e+17, -5.07372404e+17,  1.83315541e+18,\n",
      "       -3.15721724e+17, -2.19641562e+18, -2.55344089e+16,  6.52226011e+17,\n",
      "        2.97159563e+18, -2.29462240e+18]), array([ 6.49797698e+09, -8.34042858e+12,  7.53564526e+14, -1.79404730e+16,\n",
      "        1.79093564e+17, -8.98770133e+17,  2.30777832e+18, -2.41106253e+18,\n",
      "       -9.16037138e+17,  2.94394724e+18,  1.27237150e+18, -4.31457543e+18,\n",
      "        1.51965854e+18,  3.41331355e+17]), array([-1.29738985e+10,  2.32280980e+13, -2.61696358e+15,  6.84137617e+16,\n",
      "       -6.53892532e+17,  2.74066482e+18, -5.09793664e+18,  2.84346405e+18,\n",
      "        2.47729901e+18, -1.81301074e+18, -3.73585817e+18,  7.49398978e+18,\n",
      "       -7.37869763e+18,  3.07445735e+18]), array([-5.80434210e+07, -3.05961740e+12,  5.06309007e+14, -1.41293140e+16,\n",
      "        1.15092091e+17, -2.45549667e+17, -5.35279433e+17,  2.26456218e+18,\n",
      "       -8.26723656e+17, -3.37236790e+18,  2.43943214e+18,  1.20950369e+16,\n",
      "        1.86182919e+18, -1.71424921e+18]), array([ 4.28105786e+09, -6.52449385e+12,  7.54423142e+14, -2.34055639e+16,\n",
      "        2.94453052e+17, -1.76822557e+18,  5.27589402e+18, -6.93014802e+18,\n",
      "        5.78397383e+17,  5.98953379e+18, -1.81010625e+17, -6.91752903e+18,\n",
      "        3.68934881e+18,  0.00000000e+00]), array([ 3.67969356e+09, -9.96931465e+12,  1.27979239e+15, -3.34986903e+16,\n",
      "        2.83250267e+17, -8.14057694e+17, -3.97729582e+16,  3.36685148e+18,\n",
      "       -3.05465336e+18, -2.22423200e+18,  1.13522920e+18,  2.25036105e+18,\n",
      "        1.15327278e+18, -2.04590229e+18]), array([-2.96746011e+09,  8.59736771e+12, -1.17066227e+15,  3.32940819e+16,\n",
      "       -3.24910209e+17,  1.30194595e+18, -2.01742144e+18,  1.22831754e+17,\n",
      "        1.99046400e+18, -2.94321649e+17, -1.07191182e+18,  1.06303096e+18,\n",
      "       -2.46379344e+18,  1.67693136e+18])]\n",
      "--------------------\n"
     ]
    }
   ],
   "source": [
    "inv = []\n",
    "\n",
    "for N in range(1, 100):\n",
    "    if np.linalg.det(find_matrix(N)) != 0:\n",
    "        inv.append(find_inv(N))\n",
    "        print(f'Обратная матрица размера {N}:', find_inv(N))\n",
    "        print('-'*20)\n",
    "    else: \n",
    "        break"
   ]
  },
  {
   "cell_type": "code",
   "execution_count": 740,
   "metadata": {},
   "outputs": [
    {
     "name": "stdout",
     "output_type": "stream",
     "text": [
      "максимально возможное значение, при котором удается решить задачу: 14\n"
     ]
    }
   ],
   "source": [
    "print('максимально возможное значение, при котором удается решить задачу:', N-1)"
   ]
  },
  {
   "cell_type": "code",
   "execution_count": 745,
   "metadata": {},
   "outputs": [],
   "source": [
    "a = []\n",
    "\n",
    "for i in range(1, N):\n",
    "    a.append(find_matrix(i))"
   ]
  },
  {
   "cell_type": "code",
   "execution_count": 747,
   "metadata": {},
   "outputs": [
    {
     "name": "stdout",
     "output_type": "stream",
     "text": [
      "Число обусловленности матрицы для n = 1: 0.9999999999999999\n",
      "Число обусловленности матрицы для n = 2: 35.08523605831172\n",
      "Число обусловленности матрицы для n = 3: 2583.21847921955\n",
      "Число обусловленности матрицы для n = 4: 359437.098071269\n",
      "Число обусловленности матрицы для n = 5: 82650307.76639797\n",
      "Число обусловленности матрицы для n = 6: 28536745510.90572\n",
      "Число обусловленности матрицы для n = 7: 13833333011998.83\n",
      "Число обусловленности матрицы для n = 8: 9010123308360926.0\n",
      "Число обусловленности матрицы для n = 9: 2.26455419262447e+18\n",
      "Число обусловленности матрицы для n = 10: 3.2691495848282706e+19\n",
      "Число обусловленности матрицы для n = 11: 5.109686309403138e+19\n",
      "Число обусловленности матрицы для n = 12: 1.5070496486717022e+19\n",
      "Число обусловленности матрицы для n = 13: 2.716135851903082e+19\n",
      "Число обусловленности матрицы для n = 14: 2.5434169815446295e+19\n"
     ]
    }
   ],
   "source": [
    "cond = []\n",
    "for i in range(len(inv)):\n",
    "    cond.append(np.linalg.norm(a[i]) * np.linalg.norm(inv[i]))\n",
    "    print(f'Число обусловленности матрицы для n = {i+1}:', cond[i])"
   ]
  },
  {
   "cell_type": "code",
   "execution_count": 751,
   "metadata": {},
   "outputs": [
    {
     "data": {
      "image/png": "[encoded data removed]",
      "text/plain": [
       "<Figure size 1440x360 with 1 Axes>"
      ]
     },
     "metadata": {
      "needs_background": "light"
     },
     "output_type": "display_data"
    }
   ],
   "source": [
    "plt.figure(figsize=(20,5))\n",
    "plt.barh(np.arange(1, 15), cond, color='lightblue', edgecolor='black')\n",
    "# plt.xticks(cond)\n",
    "plt.xlabel('cond(A)', fontsize=15)\n",
    "plt.ylabel('n', fontsize=15)\n",
    "plt.show()"
   ]
  },
  {
   "cell_type": "code",
   "execution_count": null,
   "metadata": {},
   "outputs": [],
   "source": []
  }
 ],
 "metadata": {
  "kernelspec": {
   "display_name": "Python 3 (ipykernel)",
   "language": "python",
   "name": "python3"
  },
  "language_info": {
   "codemirror_mode": {
    "name": "ipython",
    "version": 3
   },
   "file_extension": ".py",
   "mimetype": "text/x-python",
   "name": "python",
   "nbconvert_exporter": "python",
   "pygments_lexer": "ipython3",
   "version": "3.11.5"
  }
 },
 "nbformat": 4,
 "nbformat_minor": 4
}
