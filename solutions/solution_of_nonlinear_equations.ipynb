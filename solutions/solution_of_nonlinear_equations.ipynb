{
 "cells": [
  {
   "cell_type": "code",
   "execution_count": 78,
   "metadata": {},
   "outputs": [],
   "source": [
    "import numpy as np\n",
    "import matplotlib.pyplot as plt\n",
    "from sympy.solvers import solve\n",
    "from sympy import Symbol, diff, simplify\n",
    "import sympy as sp\n",
    "from sympy import *"
   ]
  },
  {
   "cell_type": "markdown",
   "metadata": {},
   "source": [
    "# Решение нелинейных уравнений"
   ]
  },
  {
   "cell_type": "markdown",
   "metadata": {},
   "source": [
    "Даны два уравнения $(\\ln x)^2 -\\frac{3}{4}\\ln x+\\frac{1}{8}=0$ и $(\\ln x)^2-\\ln x+\\frac{1}{4}$. Найти с точностью $\\epsilon = 10^{-10}$ все корни уравнений, содержащиеся на отрезке $[0.1, 2]$. Для решения задачи использовать метод бисекции."
   ]
  },
  {
   "cell_type": "code",
   "execution_count": 6,
   "metadata": {},
   "outputs": [
    {
     "name": "stdout",
     "output_type": "stream",
     "text": [
      "Solution: x1 = 1.28402541668774 , x2 = 1.64872127070013\n",
      "Solution: x = 1.64872127070013\n",
      "Solution: \n",
      "x1 =  -1.95094920584874\n",
      "x2 =  -0.469399302164049\n",
      "x3 =  0.864354739050034\n",
      "x4 =  1.77223421661594\n",
      "x5 =  2.44052355234681\n",
      "Solution: \n",
      "x1 =  -0.801280977770532\n",
      "x2 =  2.60941887901996\n",
      "x3 =  0.445931049375288 - 0.528595825331866*I\n",
      "x4 =  0.445931049375288 + 0.528595825331866*I\n"
     ]
    }
   ],
   "source": [
    "X = Symbol('X')\n",
    "sol1 = solve((sp.log(X))**2 - 3/4 * sp.log(X) + 1/8, X)\n",
    "print('Solution: x1 =', sol1[0], ', x2 =', sol1[1])\n",
    "sol2 = solve((sp.log(X))**2 - sp.log(X) + 1/4, X)\n",
    "print('Solution: x =', sol2[0])\n",
    "sol3 = solve(X**5 - 2.656764 * X**4 - 3.406111 * X**3 + 10.89372 * X**2 - 1.752935 * X - 3.423612, X)\n",
    "print('Solution: ')\n",
    "for i in range(len(sol3)):\n",
    "    print(f'x{i+1} = ', sol3[i])\n",
    "print('Solution: ')\n",
    "for i in range(len(sol4)):\n",
    "    print(f'x{i+1} = ', sol4[i])"
   ]
  },
  {
   "cell_type": "code",
   "execution_count": 8,
   "metadata": {},
   "outputs": [],
   "source": [
    "def f(x):\n",
    "    return (np.log(x))**2 - 3/4 * np.log(x) + 1/8"
   ]
  },
  {
   "cell_type": "code",
   "execution_count": 9,
   "metadata": {},
   "outputs": [],
   "source": [
    "def g(x):\n",
    "    return (np.log(x))**2 - np.log(x) + 1/4"
   ]
  },
  {
   "cell_type": "code",
   "execution_count": 10,
   "metadata": {},
   "outputs": [
    {
     "data": {
      "image/png": "[encoded data removed]",
      "text/plain": [
       "<Figure size 432x288 with 1 Axes>"
      ]
     },
     "metadata": {
      "needs_background": "light"
     },
     "output_type": "display_data"
    }
   ],
   "source": [
    "x = np.linspace(0.1, 2, 100)\n",
    "plt.plot(x, f(x), c='blue')\n",
    "ax = plt.gca()\n",
    "ax.axhline(y=0, c='black', alpha=0.5)\n",
    "plt.scatter(1.28402541668774, f(1.28402541668774), c='red')\n",
    "plt.scatter(1.64872127070013, f(1.64872127070013), c='red')\n",
    "\n",
    "# plt.scatter(np.sqrt(np.e), f(np.sqrt(np.e)), c='red')\n",
    "# plt.scatter(np.e**0.25, f(np.e**0.25), c='red')\n",
    "\n",
    "plt.show()"
   ]
  },
  {
   "cell_type": "code",
   "execution_count": 11,
   "metadata": {},
   "outputs": [
    {
     "data": {
      "image/png": "[encoded data removed]",
      "text/plain": [
       "<Figure size 432x288 with 1 Axes>"
      ]
     },
     "metadata": {
      "needs_background": "light"
     },
     "output_type": "display_data"
    }
   ],
   "source": [
    "x = np.linspace(0.1, 2, 100)\n",
    "plt.plot(x, g(x), c='blue')\n",
    "ax = plt.gca()\n",
    "ax.axhline(y=0, c='black', alpha=0.5)\n",
    "\n",
    "plt.scatter(np.sqrt(np.e), g(np.sqrt(np.e)), c='red')\n",
    "\n",
    "plt.show()"
   ]
  },
  {
   "cell_type": "code",
   "execution_count": 12,
   "metadata": {},
   "outputs": [],
   "source": [
    "def bisec(f, a, b, eps):\n",
    "    an = a\n",
    "    bn = b\n",
    "    k = 0\n",
    "    while (bn - an) > 2 * eps:\n",
    "        xn = (an + bn) / 2\n",
    "        fa = f(an)\n",
    "        fb = f(bn)\n",
    "        fxn = f(xn)\n",
    "        if fa * fxn <= 0:\n",
    "            bn = xn\n",
    "        else:\n",
    "            an = xn\n",
    "        k += 1\n",
    "    xn = (an + bn) / 2\n",
    "    res = [xn, k]\n",
    "    return res"
   ]
  },
  {
   "cell_type": "code",
   "execution_count": 13,
   "metadata": {},
   "outputs": [
    {
     "name": "stdout",
     "output_type": "stream",
     "text": [
      "Root 1: 1.284025416651275 \n",
      "Number of iterations: 32\n"
     ]
    }
   ],
   "source": [
    "print('Root 1:', bisec(f, 1, 1.5, 1e-10)[0], '\\nNumber of iterations:', bisec(f, 1, 1.5, 1e-10)[1])"
   ]
  },
  {
   "cell_type": "code",
   "execution_count": 14,
   "metadata": {},
   "outputs": [
    {
     "name": "stdout",
     "output_type": "stream",
     "text": [
      "Root 2: 1.6487212706706487 \n",
      "Number of iterations: 32\n"
     ]
    }
   ],
   "source": [
    "print('Root 2:', bisec(f, 1.5, 2, 1e-10)[0], '\\nNumber of iterations:', bisec(f, 1.5, 2, 1e-10)[1])"
   ]
  },
  {
   "cell_type": "code",
   "execution_count": 15,
   "metadata": {},
   "outputs": [
    {
     "name": "stdout",
     "output_type": "stream",
     "text": [
      "Root: 1.9999999999417923 \n",
      "Number of iterations: 32\n"
     ]
    }
   ],
   "source": [
    "print('Root:', bisec(g, 1.5, 2, 1e-10)[0], '\\nNumber of iterations:', bisec(g, 1.5, 2, 1e-10)[1])"
   ]
  },
  {
   "cell_type": "markdown",
   "metadata": {},
   "source": [
    "Локализовать корни уравнения $f(x)=x^5-2.656764x^4-3.406111x^3+10.89372x^2-1.752935x-3.423612=0$. Найти их с точностью $\\varepsilon=10^{-8}$, используя методы простой итерации и Ньютона. Сравнить скорость сходимости методов (по числу итераций)."
   ]
  },
  {
   "cell_type": "code",
   "execution_count": 16,
   "metadata": {},
   "outputs": [],
   "source": [
    "def f1(x):\n",
    "    return x**5 - 2.656764 * x**4 - 3.406111 * x**3 + 10.89372 * x**2 - 1.752935 * x - 3.423612"
   ]
  },
  {
   "cell_type": "code",
   "execution_count": 17,
   "metadata": {},
   "outputs": [
    {
     "data": {
      "image/png": "[encoded data removed]",
      "text/plain": [
       "<Figure size 432x288 with 1 Axes>"
      ]
     },
     "metadata": {
      "needs_background": "light"
     },
     "output_type": "display_data"
    }
   ],
   "source": [
    "x = np.linspace(-2, 3, 100)\n",
    "plt.plot(x, f1(x), c='blue')\n",
    "ax = plt.gca()\n",
    "ax.axhline(y=0, c='black', alpha=0.5)\n",
    "\n",
    "solutions = [-1.95094920584874, -0.469399302164049, 0.864354739050034, 1.77223421661594, 2.44052355234681]\n",
    "\n",
    "for sol in solutions:\n",
    "    plt.scatter(sol, f1(sol), c='red')\n",
    "\n",
    "plt.show()"
   ]
  },
  {
   "cell_type": "code",
   "execution_count": 18,
   "metadata": {},
   "outputs": [],
   "source": [
    "def f2(x):\n",
    "    return x**4 - 2.7 * x**3 + x - 1"
   ]
  },
  {
   "cell_type": "code",
   "execution_count": 19,
   "metadata": {},
   "outputs": [
    {
     "data": {
      "image/png": "[encoded data removed]",
      "text/plain": [
       "<Figure size 432x288 with 1 Axes>"
      ]
     },
     "metadata": {
      "needs_background": "light"
     },
     "output_type": "display_data"
    }
   ],
   "source": [
    "x = np.linspace(-1, 3, 100)\n",
    "plt.plot(x, f2(x), c='blue')\n",
    "ax = plt.gca()\n",
    "ax.axhline(y=0, c='black', alpha=0.5)\n",
    "\n",
    "solutions = [-0.801280977770532, 2.60941887901996]\n",
    "\n",
    "for sol in solutions:\n",
    "    plt.scatter(sol, f2(sol), c='red')\n",
    "\n",
    "plt.show()"
   ]
  },
  {
   "cell_type": "code",
   "execution_count": 20,
   "metadata": {},
   "outputs": [],
   "source": [
    "def newton(f0, x0, eps):\n",
    "    \n",
    "    df = diff(f0, X)\n",
    "    xk = x0\n",
    "    it = 0\n",
    "    \n",
    "    sol = []\n",
    "    \n",
    "    for i in range(100):\n",
    "        xk = xk - f0.subs(X, xk) / df.subs(X, xk)\n",
    "        xk = simplify(xk)\n",
    "        it += 1\n",
    "        sol.append(xk)\n",
    "        if i !=0 :\n",
    "            if abs(sol[i] - sol[i-1]) <= eps:\n",
    "                break\n",
    "    return [xk, it]"
   ]
  },
  {
   "cell_type": "code",
   "execution_count": 25,
   "metadata": {},
   "outputs": [],
   "source": [
    "f0 = X**4 - 2.7 * X**3 + X - 1"
   ]
  },
  {
   "cell_type": "code",
   "execution_count": 32,
   "metadata": {},
   "outputs": [
    {
     "name": "stdout",
     "output_type": "stream",
     "text": [
      "x0 = -0.801280977770532 , number of iterations: 5\n",
      "x1 = 2.60941887901997 , number of iterations: 4\n",
      "x2 = 0.445931049375124 + 0.528595825331376*I , number of iterations: 6\n",
      "x3 = 0.445931049375124 - 0.528595825331376*I , number of iterations: 6\n"
     ]
    }
   ],
   "source": [
    "x0 = [-1, 2.5, I, -I]\n",
    "\n",
    "for i in range(len(x0)):\n",
    "    print(f'x{i} =', newton(f0, x0[i], 1e-5)[0], ', number of iterations:', newton(f0, x0[i], 1e-5)[1])"
   ]
  },
  {
   "cell_type": "code",
   "execution_count": 103,
   "metadata": {},
   "outputs": [],
   "source": [
    "g0 = X**5 - 2.656764 * X**4 - 3.406111 * X**3 + 10.89372 * X**2 - 1.752935 * X - 3.423612"
   ]
  },
  {
   "cell_type": "code",
   "execution_count": 34,
   "metadata": {},
   "outputs": [
    {
     "name": "stdout",
     "output_type": "stream",
     "text": [
      "x0 = -1.95094920584874 , number of iterations: 6\n",
      "x1 = -0.469399302164049 , number of iterations: 5\n",
      "x2 = 0.864354739050033 , number of iterations: 5\n",
      "x3 = 1.77223421661594 , number of iterations: 5\n",
      "x4 = 2.44052355234681 , number of iterations: 5\n"
     ]
    }
   ],
   "source": [
    "x0 = [-2.5, -1, 1, 1.5, 2.5]\n",
    "\n",
    "for i in range(len(x0)):\n",
    "    print(f'x{i} =', newton(g0, x0[i], 1e-8)[0], ', number of iterations:', newton(g0, x0[i], 1e-8)[1])"
   ]
  },
  {
   "cell_type": "code",
   "execution_count": 85,
   "metadata": {},
   "outputs": [],
   "source": [
    "def f(x):\n",
    "    return x**5 - 2.656764 * x**4 - 3.406111 * x**3 + 10.89372 * x**2 - 1.752935 * x - 3.423612"
   ]
  },
  {
   "cell_type": "code",
   "execution_count": 98,
   "metadata": {},
   "outputs": [],
   "source": [
    "def df(x):\n",
    "    return 5 * x**4 - 10.627056 * x**3 - 10.218333 * x**2 + 21.78744 * x - 1.752935"
   ]
  },
  {
   "cell_type": "code",
   "execution_count": 99,
   "metadata": {},
   "outputs": [],
   "source": [
    "def simple_iteration(f, x0, eps):\n",
    "    it = 0\n",
    "    alpha = 0.01 * sign(df(x0))\n",
    "    xk = x0\n",
    "    sol = []\n",
    "    for i in range(400):\n",
    "        xk -= alpha * f(xk)\n",
    "        it += 1\n",
    "        sol.append(xk)\n",
    "        if i != 0 :\n",
    "            if abs(sol[i] - sol[i-1]) <= eps:\n",
    "                break\n",
    "    return [xk, it]"
   ]
  },
  {
   "cell_type": "code",
   "execution_count": 102,
   "metadata": {},
   "outputs": [
    {
     "name": "stdout",
     "output_type": "stream",
     "text": [
      "x0 = -1.95094924702877 , number of iterations: 12\n",
      "x1 = -0.469399939781588 , number of iterations: 96\n",
      "x2 = 0.864356464615222 , number of iterations: 206\n",
      "x3 = 1.77223608293269 , number of iterations: 225\n",
      "x4 = 2.44052418395508 , number of iterations: 78\n"
     ]
    }
   ],
   "source": [
    "x0 = [-2, -1, 1, 2, 2.5]\n",
    "\n",
    "for i in range(len(x0)):\n",
    "    print(f'x{i} =', simple_iteration(f, x0[i], 10e-8)[0], ', number of iterations:', simple_iteration(f, x0[i], 10e-8)[1])"
   ]
  },
  {
   "cell_type": "code",
   "execution_count": null,
   "metadata": {},
   "outputs": [],
   "source": []
  }
 ],
 "metadata": {
  "kernelspec": {
   "display_name": "Python 3 (ipykernel)",
   "language": "python",
   "name": "python3"
  },
  "language_info": {
   "codemirror_mode": {
    "name": "ipython",
    "version": 3
   },
   "file_extension": ".py",
   "mimetype": "text/x-python",
   "name": "python",
   "nbconvert_exporter": "python",
   "pygments_lexer": "ipython3",
   "version": "3.11.5"
  }
 },
 "nbformat": 4,
 "nbformat_minor": 4
}
