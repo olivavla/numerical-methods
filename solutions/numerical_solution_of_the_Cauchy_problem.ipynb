{
 "cells": [
  {
   "cell_type": "code",
   "execution_count": 2,
   "metadata": {},
   "outputs": [],
   "source": [
    "import numpy as np\n",
    "import pandas as pd\n",
    "import matplotlib.pyplot as plt\n",
    "from scipy import integrate"
   ]
  },
  {
   "cell_type": "markdown",
   "metadata": {},
   "source": [
    "# Численное решение задачи Коши"
   ]
  },
  {
   "cell_type": "markdown",
   "metadata": {},
   "source": [
    "Найти приближенное решение задачи Коши для обыкновенного дифференциального уравнения (ОДУ) 1 порядка\n",
    "\n",
    "$$\\begin{cases}\n",
    "y'(t) = -\\frac{y}{2t}+t^2,~ t\\in[1, 2]\\\\\n",
    "y(1)=1\n",
    "\\end{cases}$$\n",
    "\n",
    "и оценить погрешность решения задачи."
   ]
  },
  {
   "cell_type": "code",
   "execution_count": 143,
   "metadata": {},
   "outputs": [],
   "source": [
    "y0 = 1\n",
    "t0 = 1\n",
    "T = 2\n",
    "h = 0.1\n",
    "N = int((T - t0) / h) # число узлов сетки"
   ]
  },
  {
   "cell_type": "code",
   "execution_count": 144,
   "metadata": {},
   "outputs": [],
   "source": [
    "def f(t, y):\n",
    "    return -y / (2 * t) + t**2\n",
    "\n",
    "def f1(x):\n",
    "    return (2 * x**3) / 7 + 5 / (7 * np.sqrt(x))\n",
    "\n",
    "def eyler(f, t, y, h):\n",
    "    y_next = y + h * f(t, y)\n",
    "    return y_next\n",
    "\n",
    "def RK4(f, t, y, h):\n",
    "    k1 = h * f(t,y)\n",
    "    k2 = h * f(t + h/2, y + k1 * h/2)\n",
    "    k3 = h * f(t + h/2, y + k2 * h/2)\n",
    "    k4 = h * f(t + h, y + k3 * h)\n",
    "    y_next = y + (k1 + 2*k2 + 2*k3 + k4)/6\n",
    "    return y_next\n",
    "\n",
    "def state(method, f, t0, y0, T, h):\n",
    "    N = int((T - t0) / h)\n",
    "\n",
    "    states = [[],[]]\n",
    "\n",
    "    states[0].append(t0)\n",
    "    states[1].append(y0)\n",
    "\n",
    "    for i in range(N):\n",
    "        t = states[0][i]\n",
    "        y = states[1][i]\n",
    "        \n",
    "        t_next = t + h\n",
    "        y_next = method(f, t, y, h)\n",
    "\n",
    "        states[0].append(t_next)\n",
    "        states[1].append(y_next)\n",
    "    return states"
   ]
  },
  {
   "cell_type": "code",
   "execution_count": 151,
   "metadata": {},
   "outputs": [],
   "source": [
    "states = state(eyler, f, t0=1, y0=1, T=2, h=0.1)\n",
    "states1 = state(RK4, f, t0=1, y0=1, T=2, h=0.1)"
   ]
  },
  {
   "cell_type": "code",
   "execution_count": 152,
   "metadata": {},
   "outputs": [],
   "source": [
    "sol = []\n",
    "for elem in states1[0]:\n",
    "    sol.append(f1(elem))"
   ]
  },
  {
   "cell_type": "code",
   "execution_count": 156,
   "metadata": {},
   "outputs": [
    {
     "data": {
      "image/png": "[encoded data removed]",
      "text/plain": [
       "<Figure size 432x288 with 1 Axes>"
      ]
     },
     "metadata": {
      "needs_background": "light"
     },
     "output_type": "display_data"
    }
   ],
   "source": [
    "# plt.figure(figsize=(10,8), dpi=300)\n",
    "plt.plot(states[0], states[1], '.', c='green', label='eyler')\n",
    "plt.plot(states1[0], states1[1], '+', c='red', label='RK4')\n",
    "plt.plot(states1[0], sol, c='blue', label='accurate solution')\n",
    "plt.legend()\n",
    "# plt.savefig('2.jpg')\n",
    "plt.show()"
   ]
  },
  {
   "cell_type": "code",
   "execution_count": 154,
   "metadata": {},
   "outputs": [
    {
     "data": {
      "text/plain": [
       "0.12274254909896021"
      ]
     },
     "execution_count": 154,
     "metadata": {},
     "output_type": "execute_result"
    }
   ],
   "source": [
    "np.abs(np.array(sol) - np.array(states[1])).max()"
   ]
  },
  {
   "cell_type": "code",
   "execution_count": 158,
   "metadata": {},
   "outputs": [
    {
     "data": {
      "text/plain": [
       "0.022019101902992944"
      ]
     },
     "execution_count": 158,
     "metadata": {},
     "output_type": "execute_result"
    }
   ],
   "source": [
    "np.abs(np.array(sol) - np.array(states1[1])).max()"
   ]
  },
  {
   "cell_type": "code",
   "execution_count": 157,
   "metadata": {},
   "outputs": [
    {
     "data": {
      "text/html": [
       "<div>\n",
       "<style scoped>\n",
       "    .dataframe tbody tr th:only-of-type {\n",
       "        vertical-align: middle;\n",
       "    }\n",
       "\n",
       "    .dataframe tbody tr th {\n",
       "        vertical-align: top;\n",
       "    }\n",
       "\n",
       "    .dataframe thead th {\n",
       "        text-align: right;\n",
       "    }\n",
       "</style>\n",
       "<table border=\"1\" class=\"dataframe\">\n",
       "  <thead>\n",
       "    <tr style=\"text-align: right;\">\n",
       "      <th></th>\n",
       "      <th>eyler</th>\n",
       "      <th>RK4</th>\n",
       "      <th>accurate solution</th>\n",
       "    </tr>\n",
       "  </thead>\n",
       "  <tbody>\n",
       "    <tr>\n",
       "      <th>1.0</th>\n",
       "      <td>1.000000</td>\n",
       "      <td>1.000000</td>\n",
       "      <td>1.000000</td>\n",
       "    </tr>\n",
       "    <tr>\n",
       "      <th>1.1</th>\n",
       "      <td>1.050000</td>\n",
       "      <td>1.062542</td>\n",
       "      <td>1.061330</td>\n",
       "    </tr>\n",
       "    <tr>\n",
       "      <th>1.2</th>\n",
       "      <td>1.123273</td>\n",
       "      <td>1.148474</td>\n",
       "      <td>1.145765</td>\n",
       "    </tr>\n",
       "    <tr>\n",
       "      <th>1.3</th>\n",
       "      <td>1.220470</td>\n",
       "      <td>1.258635</td>\n",
       "      <td>1.254184</td>\n",
       "    </tr>\n",
       "    <tr>\n",
       "      <th>1.4</th>\n",
       "      <td>1.342529</td>\n",
       "      <td>1.394093</td>\n",
       "      <td>1.387682</td>\n",
       "    </tr>\n",
       "    <tr>\n",
       "      <th>1.5</th>\n",
       "      <td>1.490581</td>\n",
       "      <td>1.556068</td>\n",
       "      <td>1.547498</td>\n",
       "    </tr>\n",
       "    <tr>\n",
       "      <th>1.6</th>\n",
       "      <td>1.665895</td>\n",
       "      <td>1.745894</td>\n",
       "      <td>1.734978</td>\n",
       "    </tr>\n",
       "    <tr>\n",
       "      <th>1.7</th>\n",
       "      <td>1.869836</td>\n",
       "      <td>1.964986</td>\n",
       "      <td>1.951546</td>\n",
       "    </tr>\n",
       "    <tr>\n",
       "      <th>1.8</th>\n",
       "      <td>2.103841</td>\n",
       "      <td>2.214816</td>\n",
       "      <td>2.198683</td>\n",
       "    </tr>\n",
       "    <tr>\n",
       "      <th>1.9</th>\n",
       "      <td>2.369401</td>\n",
       "      <td>2.496906</td>\n",
       "      <td>2.477912</td>\n",
       "    </tr>\n",
       "    <tr>\n",
       "      <th>2.0</th>\n",
       "      <td>2.668048</td>\n",
       "      <td>2.812810</td>\n",
       "      <td>2.790791</td>\n",
       "    </tr>\n",
       "  </tbody>\n",
       "</table>\n",
       "</div>"
      ],
      "text/plain": [
       "        eyler       RK4  accurate solution\n",
       "1.0  1.000000  1.000000           1.000000\n",
       "1.1  1.050000  1.062542           1.061330\n",
       "1.2  1.123273  1.148474           1.145765\n",
       "1.3  1.220470  1.258635           1.254184\n",
       "1.4  1.342529  1.394093           1.387682\n",
       "1.5  1.490581  1.556068           1.547498\n",
       "1.6  1.665895  1.745894           1.734978\n",
       "1.7  1.869836  1.964986           1.951546\n",
       "1.8  2.103841  2.214816           2.198683\n",
       "1.9  2.369401  2.496906           2.477912\n",
       "2.0  2.668048  2.812810           2.790791"
      ]
     },
     "execution_count": 157,
     "metadata": {},
     "output_type": "execute_result"
    }
   ],
   "source": [
    "data = {'eyler': states[1], 'RK4': states1[1], 'accurate solution': sol}\n",
    "pd.DataFrame(data, index=states[0])"
   ]
  },
  {
   "cell_type": "code",
   "execution_count": 159,
   "metadata": {},
   "outputs": [],
   "source": [
    "states_h = state(eyler, f, t0=1, y0=1, T=2, h=0.05)\n",
    "states1_h = state(RK4, f, t0=1, y0=1, T=2,h= 0.05)"
   ]
  },
  {
   "cell_type": "code",
   "execution_count": 160,
   "metadata": {},
   "outputs": [],
   "source": [
    "eps = np.abs((np.array(states_h[1][::2]) - np.array(states[1])) / (2**4 - 1)).max()\n",
    "eps1 = np.abs((np.array(states1_h[1][::2]) - np.array(states1[1])) / (2**4 - 1)).max()"
   ]
  },
  {
   "cell_type": "code",
   "execution_count": 162,
   "metadata": {},
   "outputs": [
    {
     "name": "stdout",
     "output_type": "stream",
     "text": [
      "error rate eyler: 0.004097860428800093 error rate RK4: 0.0006835215221965285\n"
     ]
    }
   ],
   "source": [
    "print('error rate eyler:', eps, 'error rate RK4:', eps1)"
   ]
  },
  {
   "cell_type": "code",
   "execution_count": 141,
   "metadata": {},
   "outputs": [
    {
     "name": "stdout",
     "output_type": "stream",
     "text": [
      "step h: 0.05 , error rate: 0.06127464266695881 \n",
      "\n",
      "step h: 0.025 , error rate: 0.03061442239660339 \n",
      "\n",
      "step h: 0.0125 , error rate: 0.015301640763330404 \n",
      "\n",
      "step h: 0.00625 , error rate: 0.007649446867984189 \n",
      "\n",
      "step h: 0.003125 , error rate: 0.0038243824304413643 \n",
      "\n",
      "step h: 0.0015625 , error rate: 0.0019121062605500505 \n",
      "\n",
      "step h: 0.00078125 , error rate: 0.0009560319285970564 \n",
      "\n",
      "step h: 0.000390625 , error rate: 0.00047801066805330805 \n",
      "\n",
      "step h: 0.0001953125 , error rate: 0.0002390040104622848 \n",
      "\n"
     ]
    }
   ],
   "source": [
    "h = 0.1\n",
    "for i in range(1, 10):\n",
    "    h = h/2\n",
    "    s = state(eyler, f, t0=1, y0=1, T=2, h=h)\n",
    "    print('step h:', h, ', error rate:', np.abs(np.array(sol) - np.array(s[1][::2**i])).max(), '\\n')"
   ]
  },
  {
   "cell_type": "markdown",
   "metadata": {},
   "source": [
    "Решить приближенную задачу Коши для ОДУ 1-го порядка вида (1), используя метод Рунге-Кутты 4-го порядка точности и модифицированный метод Эйлера 2-го порядка с шагами $h$ и $\\frac{h}{2}$. Для каждого мтеода оценить погрешность по правилу Рунге и вычислить уточненное решение. Построить на одном чертеже графики приближенных решений.\n",
    "\n",
    "\\begin{equation*}\n",
    "    \\begin{cases}\n",
    "        f(t,y)=-4t^3y+4(1-t^3)e^{4t}y^2, t\\in [0, 1]\\\\\n",
    "        y(0)=-1\n",
    "    \\end{cases}\n",
    "\\end{equation*}"
   ]
  },
  {
   "cell_type": "code",
   "execution_count": 164,
   "metadata": {},
   "outputs": [],
   "source": [
    "t0 = 0\n",
    "T = 1\n",
    "y0 = -1\n",
    "h = 0.1\n",
    "N = int((T - t0) / h) # число узлов сетки\n",
    "\n",
    "def g(t, y):\n",
    "    return -4 * t**3 * y + 4 * (1 - t**3) * np.e**(4 * t) * y**2\n",
    "\n",
    "def g1(x):\n",
    "    return -1 / (np.e**(4 * x))"
   ]
  },
  {
   "cell_type": "code",
   "execution_count": 165,
   "metadata": {},
   "outputs": [],
   "source": [
    "def eyler_mod(f, t, y, h):\n",
    "    y_next = y + h / 2 * (f(t, y) + f(t + h, y + h * f(t, y)))\n",
    "    return y_next"
   ]
  },
  {
   "cell_type": "code",
   "execution_count": 166,
   "metadata": {},
   "outputs": [],
   "source": [
    "states2 = state(RK4, g, t0=0, y0=-1, T=1, h=0.1)\n",
    "states3 = state(RK4, g, t0=0, y0=-1, T=1, h=0.05)\n",
    "states4 = state(eyler_mod, g, t0=0, y0=-1, T=1, h=0.1)\n",
    "states5 = state(eyler_mod, g, t0=0, y0=-1, T=1, h=0.05)"
   ]
  },
  {
   "cell_type": "code",
   "execution_count": 184,
   "metadata": {},
   "outputs": [
    {
     "name": "stdout",
     "output_type": "stream",
     "text": [
      "error RK4: [0.         0.00576931 0.00426477 0.00287579 0.00191386 0.00128055\n",
      " 0.00086719 0.00059663 0.00041863 0.000301   0.00022296] error modified eyler: [0.         0.00117366 0.0014202  0.00128645 0.00103453 0.00077958\n",
      " 0.00056444 0.00039867 0.00027814 0.00019439 0.00013882]\n"
     ]
    }
   ],
   "source": [
    "eps_RK = np.abs((np.array(states3[1][::2]) - np.array(states2[1])) / (2**4 - 1))\n",
    "eps_eyler_mod = np.abs((np.array(states5[1][::2]) - np.array(states4[1])) / (2**4 - 1))\n",
    "print('error RK4:', eps_RK, 'error modified eyler:', eps_eyler_mod)"
   ]
  },
  {
   "cell_type": "code",
   "execution_count": 179,
   "metadata": {},
   "outputs": [],
   "source": [
    "updated_RK = np.array(states3[1][::2]) + np.array(eps_RK)\n",
    "updated_eyler_mod = np.array(states5[1][::2]) + np.array(eps_eyler_mod)"
   ]
  },
  {
   "cell_type": "code",
   "execution_count": 186,
   "metadata": {},
   "outputs": [
    {
     "data": {
      "image/png": "[encoded data removed]",
      "text/plain": [
       "<Figure size 432x288 with 1 Axes>"
      ]
     },
     "metadata": {
      "needs_background": "light"
     },
     "output_type": "display_data"
    }
   ],
   "source": [
    "# plt.figure(figsize=(10,8), dpi=300)\n",
    "# plt.plot(states2[0], states2[1], '.', label='RK4, h=0.1')\n",
    "plt.plot(states3[0], states3[1], '*', label='RK4, h=0.05')\n",
    "# plt.plot(states4[0], states4[1], '^', label='modified eyler, h=0.1')\n",
    "plt.plot(states5[0], states5[1], '+', label='modified eyler, h=0.05')\n",
    "plt.plot(states2[0], updated_RK, label='updated RK4')\n",
    "plt.plot(states2[0], updated_eyler_mod, label='updated modified eyler')\n",
    "# plt.plot(np.linspace(0, 1, 1000), g1(np.linspace(0, 1, 1000)), label='accurate solution')\n",
    "plt.legend()\n",
    "# plt.savefig('3.jpg')\n",
    "plt.show()"
   ]
  },
  {
   "cell_type": "markdown",
   "metadata": {},
   "source": [
    "Решить приближенную задачу Коши для ОДУ 1-го порядка с помощью метода Рунге-Кутты 3-го порядка I с точностью $\\varepsilon=10^{-4}$. При нахождении решения использовать алгоритм автоматического выбора шага.\n",
    "\n",
    "\\begin{equation*}\n",
    "\\begin{cases}\n",
    "    f(t, y)=-\\frac{1}{3}y\\sqrt{t}+\\frac{2}{3}y^2\\sin t, t\\in [2, 10]\\\\\n",
    "    y(2)=2.2\n",
    "\\end{cases}\n",
    "\\end{equation*}\n",
    "\n",
    "Метод Рунге-Кутты 3-го порядка I:\n",
    "\n",
    "\\begin{equation*}\n",
    "    \\begin{aligned}\n",
    "        &k_1=hf(t_n, y_n)\\\\\n",
    "        &k_2=hf(t_n+\\frac{h}{2}, y_n+\\frac{k_1}{2})\\\\\n",
    "        &k_3=hf(t_n+h, y_n-k_1+2k_2)\\\\\n",
    "        &y_{n+1}=y_n+\\frac{1}{6}(k_1+4k_2+k_3)\n",
    "    \\end{aligned}\n",
    "\\end{equation*}"
   ]
  },
  {
   "cell_type": "code",
   "execution_count": 305,
   "metadata": {},
   "outputs": [],
   "source": [
    "t0 = 2\n",
    "T = 10\n",
    "y0 = 2.2\n",
    "h = 0.1\n",
    "\n",
    "def d(t, y):\n",
    "    return -1 / 3 * y * np.sqrt(t) + 2 / 3 * y**2 * np.sin(t)"
   ]
  },
  {
   "cell_type": "code",
   "execution_count": 310,
   "metadata": {},
   "outputs": [],
   "source": [
    "def RK4I(f, t, y, h):\n",
    "    k1 = h * f(t, y)\n",
    "    k2 = h * f(t + h / 2, y + k1 / 2)\n",
    "    k3 = h * f(t + h, y - k1 + 2 * k2)\n",
    "    y_next = y + 1 / 6 * (k1 + 4 * k2 + k3)\n",
    "    return y_next"
   ]
  },
  {
   "cell_type": "code",
   "execution_count": 363,
   "metadata": {},
   "outputs": [],
   "source": [
    "def adaptive_RK4(f, t0, y0, T, eps):\n",
    "    h = 0.2\n",
    "    K = 100\n",
    "    states = [[],[],[]]\n",
    "    \n",
    "    states[0].append(t0)\n",
    "    states[1].append(y0)\n",
    "    states[2].append(h)\n",
    "\n",
    "    for i in range(100):\n",
    "        \n",
    "        if states[0][-1] >= T:\n",
    "            break\n",
    "            \n",
    "        t = states[0][i]\n",
    "        y = states[1][i]\n",
    "        h = states[2][i]\n",
    "        \n",
    "        y1 = RK4I(f, t, y, h)\n",
    "        y2 = RK4I(f, t, y, h / 2)\n",
    "        y3 = RK4I(f, t + h/2, y2, h / 2)\n",
    "        \n",
    "        delta = np.abs(y1 - y3)\n",
    "        \n",
    "        if delta <= eps/K:\n",
    "            h_next = h * 2\n",
    "            t_next = states[0][-1] + h_next\n",
    "            y_next = RK4I(f, t, y, h)\n",
    "            states[0].append(t_next)\n",
    "            states[1].append(y_next)\n",
    "            states[2].append(h_next)\n",
    "        \n",
    "        elif delta <= eps:\n",
    "            t_next = states[0][-1] + h\n",
    "            y_next = RK4I(f, t, y, h)\n",
    "            states[0].append(t_next)\n",
    "            states[1].append(y_next)\n",
    "            states[2].append(h)\n",
    "            \n",
    "        else:\n",
    "            h_next = h / 2\n",
    "            t_next = states[0][-1] + h_next\n",
    "            y_next = RK4I(f, t, y, h)\n",
    "            states[0].append(t_next)\n",
    "            states[1].append(y_next)\n",
    "            states[2].append(h_next)\n",
    "\n",
    "    return states"
   ]
  },
  {
   "cell_type": "code",
   "execution_count": 364,
   "metadata": {},
   "outputs": [],
   "source": [
    "states6 = adaptive_RK4(d, t0=2, y0=2.2, T=10, eps=10e-4)\n",
    "states_new = [states6[i][:-1] for i in range(3)]"
   ]
  },
  {
   "cell_type": "code",
   "execution_count": 368,
   "metadata": {},
   "outputs": [
    {
     "data": {
      "text/html": [
       "<div>\n",
       "<style scoped>\n",
       "    .dataframe tbody tr th:only-of-type {\n",
       "        vertical-align: middle;\n",
       "    }\n",
       "\n",
       "    .dataframe tbody tr th {\n",
       "        vertical-align: top;\n",
       "    }\n",
       "\n",
       "    .dataframe thead th {\n",
       "        text-align: right;\n",
       "    }\n",
       "</style>\n",
       "<table border=\"1\" class=\"dataframe\">\n",
       "  <thead>\n",
       "    <tr style=\"text-align: right;\">\n",
       "      <th></th>\n",
       "      <th>step h</th>\n",
       "      <th>approximate solution</th>\n",
       "    </tr>\n",
       "  </thead>\n",
       "  <tbody>\n",
       "    <tr>\n",
       "      <th>2.0</th>\n",
       "      <td>0.2</td>\n",
       "      <td>2.200000</td>\n",
       "    </tr>\n",
       "    <tr>\n",
       "      <th>2.2</th>\n",
       "      <td>0.2</td>\n",
       "      <td>2.631844</td>\n",
       "    </tr>\n",
       "    <tr>\n",
       "      <th>2.4</th>\n",
       "      <td>0.2</td>\n",
       "      <td>3.166276</td>\n",
       "    </tr>\n",
       "    <tr>\n",
       "      <th>2.6</th>\n",
       "      <td>0.2</td>\n",
       "      <td>3.749278</td>\n",
       "    </tr>\n",
       "    <tr>\n",
       "      <th>2.7</th>\n",
       "      <td>0.1</td>\n",
       "      <td>4.217262</td>\n",
       "    </tr>\n",
       "    <tr>\n",
       "      <th>2.8</th>\n",
       "      <td>0.1</td>\n",
       "      <td>4.456214</td>\n",
       "    </tr>\n",
       "    <tr>\n",
       "      <th>2.9</th>\n",
       "      <td>0.1</td>\n",
       "      <td>4.594700</td>\n",
       "    </tr>\n",
       "    <tr>\n",
       "      <th>3.0</th>\n",
       "      <td>0.1</td>\n",
       "      <td>4.600768</td>\n",
       "    </tr>\n",
       "    <tr>\n",
       "      <th>3.1</th>\n",
       "      <td>0.1</td>\n",
       "      <td>4.463194</td>\n",
       "    </tr>\n",
       "    <tr>\n",
       "      <th>3.2</th>\n",
       "      <td>0.1</td>\n",
       "      <td>4.197534</td>\n",
       "    </tr>\n",
       "    <tr>\n",
       "      <th>3.3</th>\n",
       "      <td>0.1</td>\n",
       "      <td>3.840644</td>\n",
       "    </tr>\n",
       "    <tr>\n",
       "      <th>3.4</th>\n",
       "      <td>0.1</td>\n",
       "      <td>3.437268</td>\n",
       "    </tr>\n",
       "    <tr>\n",
       "      <th>3.6</th>\n",
       "      <td>0.2</td>\n",
       "      <td>3.027133</td>\n",
       "    </tr>\n",
       "    <tr>\n",
       "      <th>3.7</th>\n",
       "      <td>0.1</td>\n",
       "      <td>2.216850</td>\n",
       "    </tr>\n",
       "    <tr>\n",
       "      <th>3.8</th>\n",
       "      <td>0.1</td>\n",
       "      <td>1.921197</td>\n",
       "    </tr>\n",
       "    <tr>\n",
       "      <th>3.9</th>\n",
       "      <td>0.1</td>\n",
       "      <td>1.665282</td>\n",
       "    </tr>\n",
       "    <tr>\n",
       "      <th>4.0</th>\n",
       "      <td>0.1</td>\n",
       "      <td>1.446214</td>\n",
       "    </tr>\n",
       "    <tr>\n",
       "      <th>4.1</th>\n",
       "      <td>0.1</td>\n",
       "      <td>1.259769</td>\n",
       "    </tr>\n",
       "    <tr>\n",
       "      <th>4.2</th>\n",
       "      <td>0.1</td>\n",
       "      <td>1.101421</td>\n",
       "    </tr>\n",
       "    <tr>\n",
       "      <th>4.3</th>\n",
       "      <td>0.1</td>\n",
       "      <td>0.966878</td>\n",
       "    </tr>\n",
       "    <tr>\n",
       "      <th>4.4</th>\n",
       "      <td>0.1</td>\n",
       "      <td>0.852323</td>\n",
       "    </tr>\n",
       "    <tr>\n",
       "      <th>4.5</th>\n",
       "      <td>0.1</td>\n",
       "      <td>0.754474</td>\n",
       "    </tr>\n",
       "    <tr>\n",
       "      <th>4.7</th>\n",
       "      <td>0.2</td>\n",
       "      <td>0.670566</td>\n",
       "    </tr>\n",
       "    <tr>\n",
       "      <th>4.9</th>\n",
       "      <td>0.2</td>\n",
       "      <td>0.535032</td>\n",
       "    </tr>\n",
       "    <tr>\n",
       "      <th>5.1</th>\n",
       "      <td>0.2</td>\n",
       "      <td>0.433350</td>\n",
       "    </tr>\n",
       "    <tr>\n",
       "      <th>5.3</th>\n",
       "      <td>0.2</td>\n",
       "      <td>0.355373</td>\n",
       "    </tr>\n",
       "    <tr>\n",
       "      <th>5.5</th>\n",
       "      <td>0.2</td>\n",
       "      <td>0.294360</td>\n",
       "    </tr>\n",
       "    <tr>\n",
       "      <th>5.7</th>\n",
       "      <td>0.2</td>\n",
       "      <td>0.245745</td>\n",
       "    </tr>\n",
       "    <tr>\n",
       "      <th>6.1</th>\n",
       "      <td>0.4</td>\n",
       "      <td>0.206373</td>\n",
       "    </tr>\n",
       "    <tr>\n",
       "      <th>6.5</th>\n",
       "      <td>0.4</td>\n",
       "      <td>0.147632</td>\n",
       "    </tr>\n",
       "    <tr>\n",
       "      <th>6.9</th>\n",
       "      <td>0.4</td>\n",
       "      <td>0.105866</td>\n",
       "    </tr>\n",
       "    <tr>\n",
       "      <th>7.3</th>\n",
       "      <td>0.4</td>\n",
       "      <td>0.075448</td>\n",
       "    </tr>\n",
       "    <tr>\n",
       "      <th>7.7</th>\n",
       "      <td>0.4</td>\n",
       "      <td>0.053160</td>\n",
       "    </tr>\n",
       "    <tr>\n",
       "      <th>8.1</th>\n",
       "      <td>0.4</td>\n",
       "      <td>0.036946</td>\n",
       "    </tr>\n",
       "    <tr>\n",
       "      <th>8.5</th>\n",
       "      <td>0.4</td>\n",
       "      <td>0.025321</td>\n",
       "    </tr>\n",
       "    <tr>\n",
       "      <th>8.9</th>\n",
       "      <td>0.4</td>\n",
       "      <td>0.017130</td>\n",
       "    </tr>\n",
       "    <tr>\n",
       "      <th>9.3</th>\n",
       "      <td>0.4</td>\n",
       "      <td>0.011455</td>\n",
       "    </tr>\n",
       "    <tr>\n",
       "      <th>9.7</th>\n",
       "      <td>0.4</td>\n",
       "      <td>0.007581</td>\n",
       "    </tr>\n",
       "  </tbody>\n",
       "</table>\n",
       "</div>"
      ],
      "text/plain": [
       "     step h  approximate solution\n",
       "2.0     0.2              2.200000\n",
       "2.2     0.2              2.631844\n",
       "2.4     0.2              3.166276\n",
       "2.6     0.2              3.749278\n",
       "2.7     0.1              4.217262\n",
       "2.8     0.1              4.456214\n",
       "2.9     0.1              4.594700\n",
       "3.0     0.1              4.600768\n",
       "3.1     0.1              4.463194\n",
       "3.2     0.1              4.197534\n",
       "3.3     0.1              3.840644\n",
       "3.4     0.1              3.437268\n",
       "3.6     0.2              3.027133\n",
       "3.7     0.1              2.216850\n",
       "3.8     0.1              1.921197\n",
       "3.9     0.1              1.665282\n",
       "4.0     0.1              1.446214\n",
       "4.1     0.1              1.259769\n",
       "4.2     0.1              1.101421\n",
       "4.3     0.1              0.966878\n",
       "4.4     0.1              0.852323\n",
       "4.5     0.1              0.754474\n",
       "4.7     0.2              0.670566\n",
       "4.9     0.2              0.535032\n",
       "5.1     0.2              0.433350\n",
       "5.3     0.2              0.355373\n",
       "5.5     0.2              0.294360\n",
       "5.7     0.2              0.245745\n",
       "6.1     0.4              0.206373\n",
       "6.5     0.4              0.147632\n",
       "6.9     0.4              0.105866\n",
       "7.3     0.4              0.075448\n",
       "7.7     0.4              0.053160\n",
       "8.1     0.4              0.036946\n",
       "8.5     0.4              0.025321\n",
       "8.9     0.4              0.017130\n",
       "9.3     0.4              0.011455\n",
       "9.7     0.4              0.007581"
      ]
     },
     "execution_count": 368,
     "metadata": {},
     "output_type": "execute_result"
    }
   ],
   "source": [
    "for_df = {'step h': states_new[2], 'approximate solution': states_new[1]}\n",
    "df = pd.DataFrame(for_df, index=states_new[0])\n",
    "df\n",
    "# df.iloc[2]\n",
    "# df['step h']"
   ]
  },
  {
   "cell_type": "code",
   "execution_count": 371,
   "metadata": {},
   "outputs": [
    {
     "data": {
      "image/png": "[encoded data removed]",
      "text/plain": [
       "<Figure size 432x288 with 1 Axes>"
      ]
     },
     "metadata": {
      "needs_background": "light"
     },
     "output_type": "display_data"
    }
   ],
   "source": [
    "# plt.figure(dpi=300)\n",
    "plt.plot(states_new[0], states_new[1])\n",
    "# plt.savefig('5.jpg')\n",
    "plt.show()"
   ]
  },
  {
   "cell_type": "code",
   "execution_count": null,
   "metadata": {},
   "outputs": [],
   "source": []
  }
 ],
 "metadata": {
  "kernelspec": {
   "display_name": "Python 3 (ipykernel)",
   "language": "python",
   "name": "python3"
  },
  "language_info": {
   "codemirror_mode": {
    "name": "ipython",
    "version": 3
   },
   "file_extension": ".py",
   "mimetype": "text/x-python",
   "name": "python",
   "nbconvert_exporter": "python",
   "pygments_lexer": "ipython3",
   "version": "3.11.5"
  }
 },
 "nbformat": 4,
 "nbformat_minor": 4
}
